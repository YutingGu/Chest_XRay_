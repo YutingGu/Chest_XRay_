{
 "cells": [
  {
   "cell_type": "code",
   "execution_count": 35,
   "metadata": {},
   "outputs": [],
   "source": [
    "def output_log_writer(s, end='\\r'):\n",
    "    with open(f'tmp_output_{model_name}_{date_time}.txt', 'a') as output_file:\n",
    "        output_file.write(s+'\\n')\n",
    "        print(s,end,flush=True)"
   ]
  },
  {
   "cell_type": "code",
   "execution_count": 36,
   "metadata": {},
   "outputs": [],
   "source": [
    "epoch =0\n",
    "model_name = 'resnet50.a1_in1k'\n",
    "from datetime import datetime\n",
    "current_datetime = datetime.now()\n",
    "date_time = str(current_datetime)[:-7].replace('-','').replace(':','').replace(' ','_')"
   ]
  },
  {
   "cell_type": "code",
   "execution_count": 37,
   "metadata": {},
   "outputs": [
    {
     "name": "stdout",
     "output_type": "stream",
     "text": [
      "-------------------------------[Epoch 1]--------------------------------- \n",
      "Training... \n",
      "Computing Train Measurement... \n",
      "Computing Validation Measurement... \n",
      "Model checkpoint is saved. \n",
      "Final model saved. Training Finished. \n"
     ]
    }
   ],
   "source": [
    "output_log_writer(f'-------------------------------[Epoch {epoch+1}]---------------------------------')\n",
    "output_log_writer(f'Training...', end='')\n",
    "output_log_writer(f'Computing Train Measurement...')\n",
    "output_log_writer(f'Computing Validation Measurement...')\n",
    "output_log_writer(f'Model checkpoint is saved.')\n",
    "output_log_writer('Final model saved. Training Finished.')"
   ]
  },
  {
   "cell_type": "code",
   "execution_count": null,
   "metadata": {},
   "outputs": [],
   "source": [
    "    # save result\n",
    "    #print(f'[Epoch {epoch+1}] Saving results... \\r')\n",
    "    #with open(f'model_result/log/model_loss_{date_time}.txt', 'w') as loss_file:\n",
    "    #    loss_file.write(f'Epoch_{epoch+1}, {loss:.2e}\\r')\n",
    "    \n",
    "    #with open(f'model_result/log/model_train_acc_{date_time}.txt', 'w') as acc_train_file:\n",
    "    #    acc_train_file.write(f'Epoch_{epoch+1}, {accus_train[-2]:.2%}\\r')\n",
    "    \n",
    "    #with open(f'model_result/log/model_val_acc_{date_time}.txt', 'w') as acc_val_file:\n",
    "    #    acc_val_file.write(f'Epoch_{epoch+1}, {accus_val[-1]:.2%}\\r')"
   ]
  },
  {
   "cell_type": "code",
   "execution_count": 38,
   "metadata": {},
   "outputs": [
    {
     "data": {
      "text/plain": [
       "2464"
      ]
     },
     "execution_count": 38,
     "metadata": {},
     "output_type": "execute_result"
    }
   ],
   "source": [
    "str = '================================================================================================================================================================================================================================================================================================================================================================================================================================================================================================================================================================================================================================================================================================================================================================================================================================================================================================================================================================================================================================================================================================================================================================================================================================================================================================================================================================================================================================================================================================================================================================================================================================================================================================================================================================================================================================================================================================================================================================================================================================================================================================================================================================================================================================================================================================================================================================================================================================================================================================================================================================'\n",
    "\n",
    "len(str)"
   ]
  },
  {
   "cell_type": "code",
   "execution_count": 39,
   "metadata": {},
   "outputs": [
    {
     "data": {
      "text/plain": [
       "2852.96875"
      ]
     },
     "execution_count": 39,
     "metadata": {},
     "output_type": "execute_result"
    }
   ],
   "source": [
    "91295/32"
   ]
  },
  {
   "cell_type": "code",
   "execution_count": 3,
   "metadata": {},
   "outputs": [],
   "source": [
    "# Import libaries\n",
    "import numpy as np\n",
    "import pandas as pd\n",
    "import os\n",
    "os.environ['KMP_DUPLICATE_LIB_OK']='True'\n",
    "import gzip\n",
    "import struct\n",
    "import time\n",
    "import random\n",
    "import torch\n",
    "import torch.nn as nn\n",
    "import torch.nn.functional as F\n",
    "import torch.optim as optim\n",
    "\n",
    "import torchvision\n",
    "from torchvision import datasets, models, transforms\n",
    "\n",
    "import matplotlib.pyplot as plt\n",
    "%matplotlib inline\n",
    "\n",
    "from torchvision import datasets, transforms\n",
    "from torch.utils.data import DataLoader"
   ]
  },
  {
   "cell_type": "code",
   "execution_count": 1,
   "metadata": {},
   "outputs": [],
   "source": [
    "from __future__ import print_function, division\n",
    "\n",
    "import torch\n",
    "import torch.nn as nn\n",
    "import torch.optim as optim\n",
    "\n",
    "import torchvision as tv\n",
    "from torchvision import datasets, models, transforms\n",
    "\n",
    "import numpy as np\n",
    "import matplotlib.pyplot as plt\n",
    "\n",
    "import pandas as pd\n",
    "import time\n",
    "import os\n",
    "import copy\n",
    "import requests\n",
    "import io\n",
    "import csv\n",
    "\n",
    "plt.ion()   # interactive mode\n",
    "\n",
    "import timm \n",
    "from tqdm import tqdm"
   ]
  },
  {
   "cell_type": "code",
   "execution_count": null,
   "metadata": {},
   "outputs": [],
   "source": []
  },
  {
   "cell_type": "code",
   "execution_count": null,
   "metadata": {},
   "outputs": [],
   "source": []
  }
 ],
 "metadata": {
  "kernelspec": {
   "display_name": "base-env",
   "language": "python",
   "name": "base"
  },
  "language_info": {
   "codemirror_mode": {
    "name": "ipython",
    "version": 3
   },
   "file_extension": ".py",
   "mimetype": "text/x-python",
   "name": "python",
   "nbconvert_exporter": "python",
   "pygments_lexer": "ipython3",
   "version": "3.11.6"
  }
 },
 "nbformat": 4,
 "nbformat_minor": 2
}
