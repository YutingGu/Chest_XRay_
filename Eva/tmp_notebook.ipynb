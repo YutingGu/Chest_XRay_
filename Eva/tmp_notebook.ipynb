{
 "cells": [
  {
   "cell_type": "code",
   "execution_count": 35,
   "metadata": {},
   "outputs": [],
   "source": [
    "def output_log_writer(s, end='\\r'):\n",
    "    with open(f'tmp_output_{model_name}_{date_time}.txt', 'a') as output_file:\n",
    "        output_file.write(s+'\\n')\n",
    "        print(s,end,flush=True)"
   ]
  },
  {
   "cell_type": "code",
   "execution_count": 36,
   "metadata": {},
   "outputs": [],
   "source": [
    "epoch =0\n",
    "model_name = 'resnet50.a1_in1k'\n",
    "from datetime import datetime\n",
    "current_datetime = datetime.now()\n",
    "date_time = str(current_datetime)[:-7].replace('-','').replace(':','').replace(' ','_')"
   ]
  },
  {
   "cell_type": "code",
   "execution_count": 37,
   "metadata": {},
   "outputs": [
    {
     "name": "stdout",
     "output_type": "stream",
     "text": [
      "-------------------------------[Epoch 1]--------------------------------- \n",
      "Training... \n",
      "Computing Train Measurement... \n",
      "Computing Validation Measurement... \n",
      "Model checkpoint is saved. \n",
      "Final model saved. Training Finished. \n"
     ]
    }
   ],
   "source": [
    "output_log_writer(f'-------------------------------[Epoch {epoch+1}]---------------------------------')\n",
    "output_log_writer(f'Training...', end='')\n",
    "output_log_writer(f'Computing Train Measurement...')\n",
    "output_log_writer(f'Computing Validation Measurement...')\n",
    "output_log_writer(f'Model checkpoint is saved.')\n",
    "output_log_writer('Final model saved. Training Finished.')"
   ]
  },
  {
   "cell_type": "code",
   "execution_count": null,
   "metadata": {},
   "outputs": [],
   "source": [
    "    # save result\n",
    "    #print(f'[Epoch {epoch+1}] Saving results... \\r')\n",
    "    #with open(f'model_result/log/model_loss_{date_time}.txt', 'w') as loss_file:\n",
    "    #    loss_file.write(f'Epoch_{epoch+1}, {loss:.2e}\\r')\n",
    "    \n",
    "    #with open(f'model_result/log/model_train_acc_{date_time}.txt', 'w') as acc_train_file:\n",
    "    #    acc_train_file.write(f'Epoch_{epoch+1}, {accus_train[-2]:.2%}\\r')\n",
    "    \n",
    "    #with open(f'model_result/log/model_val_acc_{date_time}.txt', 'w') as acc_val_file:\n",
    "    #    acc_val_file.write(f'Epoch_{epoch+1}, {accus_val[-1]:.2%}\\r')"
   ]
  },
  {
   "cell_type": "code",
   "execution_count": 38,
   "metadata": {},
   "outputs": [
    {
     "data": {
      "text/plain": [
       "2464"
      ]
     },
     "execution_count": 38,
     "metadata": {},
     "output_type": "execute_result"
    }
   ],
   "source": [
    "str = '================================================================================================================================================================================================================================================================================================================================================================================================================================================================================================================================================================================================================================================================================================================================================================================================================================================================================================================================================================================================================================================================================================================================================================================================================================================================================================================================================================================================================================================================================================================================================================================================================================================================================================================================================================================================================================================================================================================================================================================================================================================================================================================================================================================================================================================================================================================================================================================================================================================================================================================================================================'\n",
    "\n",
    "len(str)"
   ]
  },
  {
   "cell_type": "code",
   "execution_count": 1,
   "metadata": {},
   "outputs": [],
   "source": [
    "import shutil\n",
    "import os\n",
    "from tqdm import tqdm\n",
    "import pandas as pd\n",
    "import numpy as np"
   ]
  },
  {
   "cell_type": "code",
   "execution_count": 3,
   "metadata": {},
   "outputs": [],
   "source": []
  },
  {
   "cell_type": "code",
   "execution_count": 4,
   "metadata": {},
   "outputs": [],
   "source": []
  },
  {
   "cell_type": "code",
   "execution_count": 7,
   "metadata": {},
   "outputs": [
    {
     "data": {
      "text/plain": [
       "{'Atelectasis': 0,\n",
       " 'Cardiomegaly': 1,\n",
       " 'Effusion': 0,\n",
       " 'Infiltration': 1,\n",
       " 'Mass': 0,\n",
       " 'Nodule': 0,\n",
       " 'Pneumonia': 0,\n",
       " 'Pneumothorax': 0,\n",
       " 'Consolidation': 0,\n",
       " 'Edema': 0,\n",
       " 'Emphysema': 0,\n",
       " 'Fibrosis': 0,\n",
       " 'Pleural_Thickening': 0,\n",
       " 'Hernia': 0}"
      ]
     },
     "execution_count": 7,
     "metadata": {},
     "output_type": "execute_result"
    }
   ],
   "source": [
    "file_name = '00003989_027.png'\n",
    "train_label_map[file_name]"
   ]
  },
  {
   "cell_type": "code",
   "execution_count": 8,
   "metadata": {},
   "outputs": [],
   "source": [
    "from sklearn.metrics import roc_auc_score"
   ]
  },
  {
   "cell_type": "code",
   "execution_count": null,
   "metadata": {},
   "outputs": [],
   "source": [
    "# 定义编码器\n",
    "class Encoder(nn.Module):\n",
    "    def __init__(self, input_dim, hidden_dim, latent_dim):\n",
    "        super(Encoder, self).__init__()\n",
    "        self.fc1 = nn.Linear(input_dim, hidden_dim)\n",
    "        self.fc2 = nn.Linear(hidden_dim, latent_dim)\n",
    "        self.relu = nn.ReLU()\n",
    "\n",
    "    def forward(self, x):\n",
    "        x = self.relu(self.fc1(x))\n",
    "        x = self.fc2(x)\n",
    "        return x\n",
    "\n",
    "\n",
    "# 定义解码器\n",
    "class Decoder(nn.Module):\n",
    "    def __init__(self, latent_dim, hidden_dim, output_dim):\n",
    "        super(Decoder, self).__init__()\n",
    "        self.fc1 = nn.Linear(latent_dim, hidden_dim)\n",
    "        self.fc2 = nn.Linear(hidden_dim, output_dim)\n",
    "        self.relu = nn.ReLU()\n",
    "\n",
    "    def forward(self, x):\n",
    "        x = self.relu(self.fc1(x))\n",
    "        x = self.fc2(x)\n",
    "        return x\n",
    "\n",
    "\n",
    "# 定义自编码器\n",
    "class Autoencoder(nn.Module):\n",
    "    def __init__(self, input_dim, hidden_dim, latent_dim):\n",
    "        super(Autoencoder, self).__init__()\n",
    "        self.encoder = Encoder(input_dim, hidden_dim, latent_dim)\n",
    "        self.decoder = Decoder(latent_dim, hidden_dim, input_dim)\n",
    "\n",
    "    def forward(self, x):\n",
    "        x = self.encoder(x)\n",
    "        x = self.decoder(x)\n",
    "        return x"
   ]
  },
  {
   "cell_type": "code",
   "execution_count": null,
   "metadata": {},
   "outputs": [],
   "source": [
    "class Autoencoder(torch.nn.Module): \n",
    "    def __init__(self, input_dim, hidden_dim, latent_dim): \n",
    "        super().__init__()         \n",
    "        self.encoder = torch.nn.Sequential( \n",
    "            torch.nn.Linear(input_dim, hidden_dim), \n",
    "            torch.nn.ReLU(), \n",
    "            torch.nn.Linear(hidden_dim, latent_dim)\n",
    "        ) \n",
    "          \n",
    "        self.decoder = torch.nn.Sequential( \n",
    "            torch.nn.Linear(latent_dim, hidden_dim), \n",
    "            torch.nn.ReLU(), \n",
    "            torch.nn.Linear(hidden_dim, input_dim),\n",
    "            torch.nn.Sigmoid() \n",
    "        ) \n",
    "  \n",
    "    def forward(self, x): \n",
    "        encoded = self.encoder(x) \n",
    "        decoded = self.decoder(encoded) \n",
    "        return decoded "
   ]
  },
  {
   "cell_type": "code",
   "execution_count": null,
   "metadata": {},
   "outputs": [],
   "source": []
  },
  {
   "cell_type": "code",
   "execution_count": null,
   "metadata": {},
   "outputs": [],
   "source": []
  },
  {
   "cell_type": "code",
   "execution_count": null,
   "metadata": {},
   "outputs": [],
   "source": [
    "# Autoencoder model\n",
    "class Autoencoder(nn.Module):\n",
    "    def __init__(self, encoding_dim):\n",
    "        super(Autoencoder, self).__init__()\n",
    "        self.encoder = nn.Linear(3 * 224 * 224, encoding_dim)\n",
    "        self.decoder = nn.Linear(encoding_dim, 3 * 224 * 224)\n",
    "\n",
    "    def forward(self, x):\n",
    "        x = x.view(x.size(0), -1)\n",
    "        x = F.relu(self.encoder(x))\n",
    "        x = torch.sigmoid(self.decoder(x))\n",
    "        x = x.view(x.size(0), 3, 224, 224)\n",
    "        return x"
   ]
  },
  {
   "cell_type": "code",
   "execution_count": null,
   "metadata": {},
   "outputs": [],
   "source": [
    "# Autoencoder model\n",
    "class Autoencoder(nn.Module):\n",
    "    def __init__(self, encoding_dim, hidden_dim):\n",
    "        super(Autoencoder, self).__init__()\n",
    "        self.encoder = nn.Sequential(\n",
    "            nn.Linear(3 * 224 * 224, hidden_dim),\n",
    "            nn.ReLU(),\n",
    "            nn.Linear(hidden_dim, encoding_dim),\n",
    "            nn.ReLU()\n",
    "        )\n",
    "        self.decoder = nn.Sequential(\n",
    "            nn.Linear(encoding_dim, hidden_dim),\n",
    "            nn.ReLU(),\n",
    "            nn.Linear(hidden_dim, 3 * 224 * 224),\n",
    "            nn.Sigmoid()\n",
    "        )\n",
    " \n",
    " \n",
    "    def forward(self, x):\n",
    "        batchsz = x.size(0)\n",
    "        # flatten\n",
    "        x = x.view(batchsz, -1)\n",
    "        # encoder\n",
    "        x = self.encoder(x)\n",
    "        # decoder\n",
    "        x = self.decoder(x)\n",
    "        # reshape\n",
    "        x = x.view(batchsz, 3, 224, 224)\n",
    "        \n",
    "        return x  "
   ]
  },
  {
   "cell_type": "code",
   "execution_count": null,
   "metadata": {},
   "outputs": [],
   "source": [
    "# class CAE(nn.Module):\n",
    "#     def __init__(self, encoding_dim, hidden_dim):\n",
    "#         super(CAE, self).__init__()\n",
    "#         self.encoder = nn.Sequential(\n",
    "#             nn.Conv2d(3, hidden_dim, 3, stride=1, padding=1),  # b, 16, 10, 10\n",
    "#             nn.ReLU(True),\n",
    "#             nn.MaxPool2d(2, stride=2),  # b, 16, 5, 5\n",
    "#             nn.Conv2d(hidden_dim, encoding_dim, 3, stride=1, padding=1),  # b, 8, 3, 3\n",
    "#             nn.ReLU(True),\n",
    "#             nn.MaxPool2d(2, stride=2)  # b, 8, 2, 2\n",
    "#         )\n",
    "#         self.decoder = nn.Sequential(\n",
    "#             nn.ConvTranspose2d(encoding_dim, hidden_dim, 3, stride=2, padding=1, output_padding=1),  # b, 16, 5, 5\n",
    "#             nn.ReLU(True),\n",
    "#             nn.ConvTranspose2d(hidden_dim, 224, 3, stride=2, padding=1, output_padding=1),  # b, 8, 15, 15\n",
    "#             nn.ReLU(True),\n",
    "#             nn.ConvTranspose2d(224, 3, 3, stride=1, padding=1),  # b, 1, 28, 28\n",
    "#             nn.Tanh()\n",
    "#         )\n",
    " \n",
    "#     def forward(self, x):\n",
    "#         x = self.encoder(x)\n",
    "#         x = self.decoder(x)\n"
   ]
  },
  {
   "cell_type": "code",
   "execution_count": null,
   "metadata": {},
   "outputs": [],
   "source": [
    "# # check the flow of the structure\n",
    "# net = nn.Sequential(\n",
    "#     nn.Conv2d(3, 128, 3, stride=1, padding=1), nn.ReLU(True), nn.MaxPool2d(2, stride=2),\n",
    "#     nn.Conv2d(128, 32, 3, stride=1, padding=1), nn.ReLU(True), nn.MaxPool2d(2, stride=2),\n",
    "#     nn.ConvTranspose2d(32, 128, 3, stride=2, padding=1, output_padding=1), nn.ReLU(True),\n",
    "#     nn.ConvTranspose2d(128, 224, 3, stride=2, padding=1, output_padding=1), nn.ReLU(True),\n",
    "#     nn.ConvTranspose2d(224, 3, 3, stride=1, padding=1), nn.Tanh())\n",
    "\n",
    "# X = torch.rand(size=(1,3,224,224), dtype=torch.float32)\n",
    "# for layer in net:\n",
    "#     print(layer.__class__.__name__,'output shape: \\t',X.shape)\n",
    "#     X = layer(X)"
   ]
  },
  {
   "cell_type": "code",
   "execution_count": null,
   "metadata": {},
   "outputs": [],
   "source": []
  },
  {
   "cell_type": "code",
   "execution_count": null,
   "metadata": {},
   "outputs": [],
   "source": []
  }
 ],
 "metadata": {
  "kernelspec": {
   "display_name": "base-env",
   "language": "python",
   "name": "base"
  },
  "language_info": {
   "codemirror_mode": {
    "name": "ipython",
    "version": 3
   },
   "file_extension": ".py",
   "mimetype": "text/x-python",
   "name": "python",
   "nbconvert_exporter": "python",
   "pygments_lexer": "ipython3",
   "version": "3.11.6"
  }
 },
 "nbformat": 4,
 "nbformat_minor": 2
}
