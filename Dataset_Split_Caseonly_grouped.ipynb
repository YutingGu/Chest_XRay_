{
 "cells": [
  {
   "cell_type": "code",
   "execution_count": 29,
   "metadata": {},
   "outputs": [],
   "source": [
    "import shutil\n",
    "import os\n",
    "from tqdm import tqdm\n",
    "import pandas as pd\n",
    "import numpy as np"
   ]
  },
  {
   "cell_type": "code",
   "execution_count": 30,
   "metadata": {},
   "outputs": [],
   "source": [
    "train_dir = 'Dataset/images/train_caseonly_grouped'\n",
    "val_dir = 'Dataset/images/validation_caseonly_grouped'\n",
    "test_dir = 'Dataset/images/test_caseonly_grouped'"
   ]
  },
  {
   "cell_type": "code",
   "execution_count": 31,
   "metadata": {},
   "outputs": [],
   "source": [
    "class_names = ['Fluid_overload', 'Infection', 'Mass_Like_Lesions', 'Parenchymal_Disease', \n",
    "               'Atelectasis', 'Cardiomegaly', 'Pneumothorax', 'Pleural_Thickening']"
   ]
  },
  {
   "cell_type": "code",
   "execution_count": 32,
   "metadata": {},
   "outputs": [
    {
     "name": "stdout",
     "output_type": "stream",
     "text": [
      "Creating  Dataset/images/train_caseonly_grouped/Fluid_overload\n",
      "Creating  Dataset/images/train_caseonly_grouped/Infection\n",
      "Creating  Dataset/images/train_caseonly_grouped/Mass_Like_Lesions\n",
      "Creating  Dataset/images/train_caseonly_grouped/Parenchymal_Disease\n",
      "Creating  Dataset/images/train_caseonly_grouped/Atelectasis\n",
      "Creating  Dataset/images/train_caseonly_grouped/Cardiomegaly\n",
      "Creating  Dataset/images/train_caseonly_grouped/Pneumothorax\n",
      "Creating  Dataset/images/train_caseonly_grouped/Pleural_Thickening\n",
      "Existed path Dataset/images/validation_caseonly_grouped/Fluid_overload\n",
      "Existed path Dataset/images/validation_caseonly_grouped/Infection\n",
      "Existed path Dataset/images/validation_caseonly_grouped/Mass_Like_Lesions\n",
      "Existed path Dataset/images/validation_caseonly_grouped/Parenchymal_Disease\n",
      "Existed path Dataset/images/validation_caseonly_grouped/Atelectasis\n",
      "Existed path Dataset/images/validation_caseonly_grouped/Cardiomegaly\n",
      "Existed path Dataset/images/validation_caseonly_grouped/Pneumothorax\n",
      "Existed path Dataset/images/validation_caseonly_grouped/Pleural_Thickening\n",
      "Existed path Dataset/images/test_caseonly_grouped/Fluid_overload\n",
      "Existed path Dataset/images/test_caseonly_grouped/Infection\n",
      "Existed path Dataset/images/test_caseonly_grouped/Mass_Like_Lesions\n",
      "Existed path Dataset/images/test_caseonly_grouped/Parenchymal_Disease\n",
      "Existed path Dataset/images/test_caseonly_grouped/Atelectasis\n",
      "Existed path Dataset/images/test_caseonly_grouped/Cardiomegaly\n",
      "Existed path Dataset/images/test_caseonly_grouped/Pneumothorax\n",
      "Existed path Dataset/images/test_caseonly_grouped/Pleural_Thickening\n"
     ]
    }
   ],
   "source": [
    "# creating path to store images in folders(train/val/test) with subfolders named by class-label\n",
    "for path in [train_dir, val_dir, test_dir]:\n",
    "    for label in list(class_names): \n",
    "        path_label = path + '/' + label\n",
    "        if os.path.exists(path_label)== False:\n",
    "            print('Creating ',path_label)\n",
    "            os.makedirs(path_label)\n",
    "        else: print('Existed path', path_label)"
   ]
  },
  {
   "cell_type": "code",
   "execution_count": 33,
   "metadata": {},
   "outputs": [],
   "source": [
    "class_group_map = {\n",
    "    'Edema': 'Fluid_overload',\n",
    "    'Effusion': 'Fluid_overload',\n",
    "    'Pneumonia': 'Infection',\n",
    "    'Consolidation': 'Infection',\n",
    "    'Infiltration': 'Infection',\n",
    "    'Mass': 'Mass_Like_Lesions',\n",
    "    'Nodule': 'Mass_Like_Lesions',\n",
    "    'Fibrosis': 'Parenchymal_Disease',\n",
    "    'Emphysema': 'Parenchymal_Disease',\n",
    "    'Atelectasis': 'Atelectasis',\n",
    "    'Cardiomegaly': 'Cardiomegaly',\n",
    "    'Pneumothorax': 'Pneumothorax',\n",
    "    'Pleural_Thickening': 'Pleural_Thickening'\n",
    "    }"
   ]
  },
  {
   "cell_type": "code",
   "execution_count": 34,
   "metadata": {},
   "outputs": [],
   "source": [
    "old_folder_list = ['train_caseonly','validation_caseonly','test_caseonly']\n",
    "new_folder_list = ['train_caseonly_grouped','validation_caseonly_grouped','test_caseonly_grouped']"
   ]
  },
  {
   "cell_type": "code",
   "execution_count": 35,
   "metadata": {},
   "outputs": [
    {
     "name": "stdout",
     "output_type": "stream",
     "text": [
      "Edema  --->  Fluid_overload\n",
      "Effusion  --->  Fluid_overload\n",
      "Pneumonia  --->  Infection\n",
      "Consolidation  --->  Infection\n",
      "Infiltration  --->  Infection\n",
      "Mass  --->  Mass_Like_Lesions\n",
      "Nodule  --->  Mass_Like_Lesions\n",
      "Fibrosis  --->  Parenchymal_Disease\n",
      "Emphysema  --->  Parenchymal_Disease\n",
      "Atelectasis  --->  Atelectasis\n",
      "Cardiomegaly  --->  Cardiomegaly\n",
      "Pneumothorax  --->  Pneumothorax\n",
      "Pleural_Thickening  --->  Pleural_Thickening\n"
     ]
    }
   ],
   "source": [
    "for key, item in class_group_map.items():\n",
    "    print(key,' ---> ', item)"
   ]
  },
  {
   "cell_type": "code",
   "execution_count": 36,
   "metadata": {},
   "outputs": [
    {
     "data": {
      "text/plain": [
       "13"
      ]
     },
     "execution_count": 36,
     "metadata": {},
     "output_type": "execute_result"
    }
   ],
   "source": [
    "len(class_group_map.keys())"
   ]
  },
  {
   "cell_type": "code",
   "execution_count": 37,
   "metadata": {},
   "outputs": [],
   "source": [
    "folder_list = zip(old_folder_list,new_folder_list)"
   ]
  },
  {
   "cell_type": "code",
   "execution_count": null,
   "metadata": {},
   "outputs": [
    {
     "name": "stdout",
     "output_type": "stream",
     "text": [
      "Copying Dataset/images/train_caseonly/Edema to Dataset/images/train_caseonly_grouped/Fluid_overload\n"
     ]
    },
    {
     "name": "stderr",
     "output_type": "stream",
     "text": [
      "100%|██████████| 1225/1225 [00:30<00:00, 39.92it/s]\n"
     ]
    },
    {
     "name": "stdout",
     "output_type": "stream",
     "text": [
      "Copying Dataset/images/train_caseonly/Effusion to Dataset/images/train_caseonly_grouped/Fluid_overload\n"
     ]
    },
    {
     "name": "stderr",
     "output_type": "stream",
     "text": [
      "100%|██████████| 7475/7475 [03:29<00:00, 35.71it/s]\n"
     ]
    },
    {
     "name": "stdout",
     "output_type": "stream",
     "text": [
      "Copying Dataset/images/train_caseonly/Pneumonia to Dataset/images/train_caseonly_grouped/Infection\n"
     ]
    },
    {
     "name": "stderr",
     "output_type": "stream",
     "text": [
      "100%|██████████| 761/761 [00:22<00:00, 33.57it/s]\n"
     ]
    },
    {
     "name": "stdout",
     "output_type": "stream",
     "text": [
      "Copying Dataset/images/train_caseonly/Consolidation to Dataset/images/train_caseonly_grouped/Infection\n"
     ]
    },
    {
     "name": "stderr",
     "output_type": "stream",
     "text": [
      "100%|██████████| 2485/2485 [01:09<00:00, 35.74it/s]\n"
     ]
    },
    {
     "name": "stdout",
     "output_type": "stream",
     "text": [
      "Copying Dataset/images/train_caseonly/Infiltration to Dataset/images/train_caseonly_grouped/Infection\n"
     ]
    },
    {
     "name": "stderr",
     "output_type": "stream",
     "text": [
      " 51%|█████▏    | 6134/11958 [02:58<02:40, 36.33it/s]"
     ]
    }
   ],
   "source": [
    "for old_folder, new_folder in folder_list:\n",
    "    for old_label, new_label in class_group_map.items():\n",
    "        old_path = 'Dataset/images/' + old_folder + '/' + old_label\n",
    "        new_path = 'Dataset/images/' + new_folder + '/' + new_label\n",
    "        print('Copying ' + old_path + ' to ' + new_path)\n",
    "        \n",
    "        files = os.listdir(old_path)\n",
    "        for file in tqdm(files):\n",
    "            source_file = os.path.join(old_path, file)\n",
    "            destination_file = os.path.join(new_path, file)\n",
    "            shutil.copy(source_file, destination_file)"
   ]
  },
  {
   "cell_type": "code",
   "execution_count": null,
   "metadata": {},
   "outputs": [],
   "source": []
  }
 ],
 "metadata": {
  "kernelspec": {
   "display_name": "base-env",
   "language": "python",
   "name": "base"
  },
  "language_info": {
   "codemirror_mode": {
    "name": "ipython",
    "version": 3
   },
   "file_extension": ".py",
   "mimetype": "text/x-python",
   "name": "python",
   "nbconvert_exporter": "python",
   "pygments_lexer": "ipython3",
   "version": "3.11.6"
  }
 },
 "nbformat": 4,
 "nbformat_minor": 2
}
