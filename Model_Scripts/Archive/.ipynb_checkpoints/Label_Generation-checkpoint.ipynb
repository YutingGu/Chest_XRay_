{
 "cells": [
  {
   "cell_type": "code",
   "execution_count": 1,
   "metadata": {},
   "outputs": [],
   "source": [
    "import csv\n",
    "import os\n",
    "import random"
   ]
  },
  {
   "cell_type": "code",
   "execution_count": 33,
   "metadata": {},
   "outputs": [],
   "source": [
    "disease_recode_map = {\n",
    "        'Atelectasis': 0,\n",
    "        'Cardiomegaly': 1,\n",
    "        'Effusion': 2,\n",
    "        'Infiltration': 3,\n",
    "        'Mass': 4,\n",
    "        'Nodule': 5,\n",
    "        'Pneumonia': 6,\n",
    "        'Pneumothorax': 7,\n",
    "        'Consolidation': 8,\n",
    "        'Edema': 9,\n",
    "        'Emphysema': 10,\n",
    "        'Fibrosis': 11,\n",
    "        'Pleural_Thickening': 12,\n",
    "        'Hernia': 13,\n",
    "        }"
   ]
  },
  {
   "cell_type": "code",
   "execution_count": 31,
   "metadata": {},
   "outputs": [
    {
     "name": "stdout",
     "output_type": "stream",
     "text": [
      "00000001_000.png,Cardiomegaly,0,1,57,M,PA,2682,2749,0.14300000000000002,0.14300000000000002\n",
      "00000001_001.png,Cardiomegaly|Emphysema,1,1,58,M,PA,2894,2729,0.14300000000000002,0.14300000000000002\n",
      "00000001_002.png,Cardiomegaly|Effusion,2,1,58,M,PA,2500,2048,0.168,0.168\n",
      "00000002_000.png,No Finding,0,2,80,M,PA,2500,2048,0.171,0.171\n",
      "00000003_001.png,Hernia,0,3,74,F,PA,2500,2048,0.168,0.168\n",
      "00000003_002.png,Hernia,1,3,75,F,PA,2048,2500,0.168,0.168\n",
      "00000003_003.png,Hernia|Infiltration,2,3,76,F,PA,2698,2991,0.14300000000000002,0.14300000000000002\n",
      "00000003_004.png,Hernia,3,3,77,F,PA,2500,2048,0.168,0.168\n",
      "00000003_005.png,Hernia,4,3,78,F,PA,2686,2991,0.14300000000000002,0.14300000000000002\n",
      "00000003_006.png,Hernia,5,3,79,F,PA,2992,2991,0.14300000000000002,0.14300000000000002\n"
     ]
    }
   ],
   "source": [
    "Data_Entry = open('Dataset/CXR8_Data_Entry_2017.csv')\n",
    "Data_Entry_line = Data_Entry.read().splitlines()\n",
    "del Data_Entry_line[0]\n",
    "for i in range(10): print(Data_Entry_line[i])"
   ]
  },
  {
   "cell_type": "code",
   "execution_count": null,
   "metadata": {},
   "outputs": [],
   "source": [
    "train_val_list = open('Dataset/train_val_list.txt').read().split('\\n')\n",
    "test_list = open('Dataset/test_list.txt').read().split('\\n')"
   ]
  },
  {
   "cell_type": "code",
   "execution_count": null,
   "metadata": {},
   "outputs": [],
   "source": [
    "patients = []\n",
    "last = ''\n",
    "for i in range(len(image_name_list)):\n",
    "    if last == image_name_list[i][:8]:\n",
    "        patients[-1].append(image_name_list[i])\n",
    "    else:\n",
    "        patients.append([image_name_list[i]])\n",
    "    last = image_name_list[i][:8]"
   ]
  },
  {
   "cell_type": "code",
   "execution_count": 35,
   "metadata": {},
   "outputs": [
    {
     "name": "stdout",
     "output_type": "stream",
     "text": [
      "['00000001_001.png', 0, 1, 0, 0, 0, 0, 0, 0, 0, 0, 1, 0, 0, 0]\n"
     ]
    }
   ],
   "source": [
    "for i in range(len(Data_Entry_line)):\n",
    "    file_name = Data_Entry_line[i].split(',')[0]\n",
    "    label_list = Data_Entry_line[i].split(',')[1].split('|')\n",
    "    label_vec = [0 for _ in range(14)]\n",
    "    for l in label_list:\n",
    "        if l != \"No Finding\":\n",
    "            label_vec[disease_recode_map[l]] = 1\n",
    "        output = []\n",
    "        output.append(file_name)\n",
    "        output += label_vec\n",
    "\n",
    "print(output)"
   ]
  },
  {
   "cell_type": "code",
   "execution_count": null,
   "metadata": {},
   "outputs": [],
   "source": [
    "for i in range(len(Data_Entry_line)):\n",
    "    split = Data_Entry_line[i].split(',')\n",
    "    file_name = split[0]\n",
    "    patient_id = int(split[3])-1\n",
    "    label_string = split[1]\n",
    "    labels = label_string.split('|')\n",
    "    vector = [0 for _ in range(14)]\n",
    "    for label in labels:\n",
    "        if label != \"No Finding\":\n",
    "            vector[disease_categories[label]] = 1\n",
    "    output = []\n",
    "    output.append(file_name)\n",
    "    output += vector"
   ]
  }
 ],
 "metadata": {
  "kernelspec": {
   "display_name": "ml-env",
   "language": "python",
   "name": "ml"
  },
  "language_info": {
   "codemirror_mode": {
    "name": "ipython",
    "version": 3
   },
   "file_extension": ".py",
   "mimetype": "text/x-python",
   "name": "python",
   "nbconvert_exporter": "python",
   "pygments_lexer": "ipython3",
   "version": "3.11.6"
  }
 },
 "nbformat": 4,
 "nbformat_minor": 2
}
