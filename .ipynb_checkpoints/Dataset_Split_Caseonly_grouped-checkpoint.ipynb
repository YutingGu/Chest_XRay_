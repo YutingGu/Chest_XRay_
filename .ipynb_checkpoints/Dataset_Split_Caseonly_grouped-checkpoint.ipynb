{
 "cells": [
  {
   "cell_type": "code",
   "execution_count": null,
   "metadata": {},
   "outputs": [],
   "source": [
    "import shutil\n",
    "import os\n",
    "from tqdm import tqdm\n",
    "import pandas as pd\n",
    "import numpy as np"
   ]
  },
  {
   "cell_type": "code",
   "execution_count": null,
   "metadata": {},
   "outputs": [],
   "source": [
    "train_label = pd.read_csv('Dataset/train_label.csv', index_col=False)\n",
    "val_label = pd.read_csv('Dataset/val_label.csv', index_col=False)\n",
    "test_label = pd.read_csv('Dataset/test_label.csv', index_col=False)"
   ]
  },
  {
   "cell_type": "code",
   "execution_count": null,
   "metadata": {},
   "outputs": [],
   "source": [
    "train_dir = 'Dataset/images/train_caseonly'\n",
    "val_dir = 'Dataset/images/validation_caseonly'\n",
    "test_dir = 'Dataset/images/test_caseonly'"
   ]
  },
  {
   "cell_type": "code",
   "execution_count": 1,
   "metadata": {},
   "outputs": [],
   "source": [
    "class_names = ['Fluid_overload', 'Infection', 'Mass_Like_Lesions', 'Parenchymal_Disease', \n",
    "               'Atelectasis', 'Cardiomegaly', 'Pneumothorax', 'Pleural_Thickening']"
   ]
  },
  {
   "cell_type": "code",
   "execution_count": null,
   "metadata": {},
   "outputs": [],
   "source": [
    "# creating path to store images in folders(train/val/test) with subfolders named by class-label\n",
    "for path in [train_dir, val_dir, test_dir]:\n",
    "    for label in list(class_names): \n",
    "        path_label = path + '/' + label\n",
    "        if os.path.exists(path_label)== False:\n",
    "            print('Creating ',path_label)\n",
    "            os.makedirs(path_label)\n",
    "        else: print('Existed path', path_label)"
   ]
  },
  {
   "cell_type": "code",
   "execution_count": 2,
   "metadata": {},
   "outputs": [],
   "source": [
    "class_group_map = {\n",
    "    'Edema': 'Fluid_overload',\n",
    "    'Effusion': 'Fluid_overload',\n",
    "    'Pneumonia': 'Infection',\n",
    "    'Consolidation': 'Infection',\n",
    "    'Infiltration': 'Infection',\n",
    "    'Mass': 'Mass_Like_Lesions',\n",
    "    'Nodule': 'Mass_Like_Lesions',\n",
    "    'Fibrosis': 'Parenchymal_Disease',\n",
    "    'Emphysema': 'Parenchymal_Disease',\n",
    "    'Atelectasis': 'Atelectasis',\n",
    "    'Cardiomegaly': 'Cardiomegaly',\n",
    "    'Pneumothorax': 'Pneumothorax',\n",
    "    'Pleural_Thickening': 'Pleural_Thickening'\n",
    "    }"
   ]
  },
  {
   "cell_type": "code",
   "execution_count": null,
   "metadata": {},
   "outputs": [],
   "source": []
  }
 ],
 "metadata": {
  "kernelspec": {
   "display_name": "Python 3",
   "language": "python",
   "name": "python3"
  },
  "language_info": {
   "codemirror_mode": {
    "name": "ipython",
    "version": 3
   },
   "file_extension": ".py",
   "mimetype": "text/x-python",
   "name": "python",
   "nbconvert_exporter": "python",
   "pygments_lexer": "ipython3",
   "version": "3.6.8"
  }
 },
 "nbformat": 4,
 "nbformat_minor": 2
}
