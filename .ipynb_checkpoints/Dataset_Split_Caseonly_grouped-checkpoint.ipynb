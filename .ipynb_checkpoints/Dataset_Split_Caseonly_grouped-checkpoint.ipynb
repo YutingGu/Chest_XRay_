{
 "cells": [
  {
   "cell_type": "code",
   "execution_count": 1,
   "metadata": {},
   "outputs": [],
   "source": [
    "import shutil\n",
    "import os\n",
    "from tqdm import tqdm\n",
    "import pandas as pd\n",
    "import numpy as np"
   ]
  },
  {
   "cell_type": "code",
   "execution_count": 6,
   "metadata": {},
   "outputs": [],
   "source": [
    "train_dir = 'Dataset/images/train_caseonly_grouped'\n",
    "val_dir = 'Dataset/images/validation_caseonly_grouped'\n",
    "test_dir = 'Dataset/images/test_caseonly_grouped'"
   ]
  },
  {
   "cell_type": "code",
   "execution_count": 4,
   "metadata": {},
   "outputs": [],
   "source": [
    "class_names = ['Fluid_overload', 'Infection', 'Mass_Like_Lesions', 'Parenchymal_Disease', \n",
    "               'Atelectasis', 'Cardiomegaly', 'Pneumothorax', 'Pleural_Thickening']"
   ]
  },
  {
   "cell_type": "code",
   "execution_count": 7,
   "metadata": {},
   "outputs": [
    {
     "name": "stdout",
     "output_type": "stream",
     "text": [
      "Creating  Dataset/images/train_caseonly_grouped/Fluid_overload\n",
      "Creating  Dataset/images/train_caseonly_grouped/Infection\n",
      "Creating  Dataset/images/train_caseonly_grouped/Mass_Like_Lesions\n",
      "Creating  Dataset/images/train_caseonly_grouped/Parenchymal_Disease\n",
      "Creating  Dataset/images/train_caseonly_grouped/Atelectasis\n",
      "Creating  Dataset/images/train_caseonly_grouped/Cardiomegaly\n",
      "Creating  Dataset/images/train_caseonly_grouped/Pneumothorax\n",
      "Creating  Dataset/images/train_caseonly_grouped/Pleural_Thickening\n",
      "Creating  Dataset/images/validation_caseonly_grouped/Fluid_overload\n",
      "Creating  Dataset/images/validation_caseonly_grouped/Infection\n",
      "Creating  Dataset/images/validation_caseonly_grouped/Mass_Like_Lesions\n",
      "Creating  Dataset/images/validation_caseonly_grouped/Parenchymal_Disease\n",
      "Creating  Dataset/images/validation_caseonly_grouped/Atelectasis\n",
      "Creating  Dataset/images/validation_caseonly_grouped/Cardiomegaly\n",
      "Creating  Dataset/images/validation_caseonly_grouped/Pneumothorax\n",
      "Creating  Dataset/images/validation_caseonly_grouped/Pleural_Thickening\n",
      "Creating  Dataset/images/test_caseonly_grouped/Fluid_overload\n",
      "Creating  Dataset/images/test_caseonly_grouped/Infection\n",
      "Creating  Dataset/images/test_caseonly_grouped/Mass_Like_Lesions\n",
      "Creating  Dataset/images/test_caseonly_grouped/Parenchymal_Disease\n",
      "Creating  Dataset/images/test_caseonly_grouped/Atelectasis\n",
      "Creating  Dataset/images/test_caseonly_grouped/Cardiomegaly\n",
      "Creating  Dataset/images/test_caseonly_grouped/Pneumothorax\n",
      "Creating  Dataset/images/test_caseonly_grouped/Pleural_Thickening\n"
     ]
    }
   ],
   "source": [
    "# creating path to store images in folders(train/val/test) with subfolders named by class-label\n",
    "for path in [train_dir, val_dir, test_dir]:\n",
    "    for label in list(class_names): \n",
    "        path_label = path + '/' + label\n",
    "        if os.path.exists(path_label)== False:\n",
    "            print('Creating ',path_label)\n",
    "            os.makedirs(path_label)\n",
    "        else: print('Existed path', path_label)"
   ]
  },
  {
   "cell_type": "code",
   "execution_count": 8,
   "metadata": {},
   "outputs": [],
   "source": [
    "class_group_map = {\n",
    "    'Edema': 'Fluid_overload',\n",
    "    'Effusion': 'Fluid_overload',\n",
    "    'Pneumonia': 'Infection',\n",
    "    'Consolidation': 'Infection',\n",
    "    'Infiltration': 'Infection',\n",
    "    'Mass': 'Mass_Like_Lesions',\n",
    "    'Nodule': 'Mass_Like_Lesions',\n",
    "    'Fibrosis': 'Parenchymal_Disease',\n",
    "    'Emphysema': 'Parenchymal_Disease',\n",
    "    'Atelectasis': 'Atelectasis',\n",
    "    'Cardiomegaly': 'Cardiomegaly',\n",
    "    'Pneumothorax': 'Pneumothorax',\n",
    "    'Pleural_Thickening': 'Pleural_Thickening'\n",
    "    }"
   ]
  },
  {
   "cell_type": "code",
   "execution_count": 11,
   "metadata": {},
   "outputs": [],
   "source": [
    "old_folder_list = ['train_caseonly','validation_caseonly','test_caseonly']\n",
    "new_folder_list = ['train_caseonly_grouped','validation_caseonly_grouped','test_caseonly_grouped']"
   ]
  },
  {
   "cell_type": "code",
   "execution_count": 15,
   "metadata": {},
   "outputs": [
    {
     "data": {
      "text/plain": [
       "dict_keys(['Edema', 'Effusion', 'Pneumonia', 'Consolidation', 'Infiltration', 'Mass', 'Nodule', 'Fibrosis', 'Emphysema', 'Atelectasis', 'Cardiomegaly', 'Pneumothorax', 'Pleural_Thickening'])"
      ]
     },
     "execution_count": 15,
     "metadata": {},
     "output_type": "execute_result"
    }
   ],
   "source": [
    "class_group_map.keys()"
   ]
  },
  {
   "cell_type": "code",
   "execution_count": 14,
   "metadata": {},
   "outputs": [
    {
     "data": {
      "text/plain": [
       "13"
      ]
     },
     "execution_count": 14,
     "metadata": {},
     "output_type": "execute_result"
    }
   ],
   "source": [
    "len(class_group_map.keys())"
   ]
  },
  {
   "cell_type": "code",
   "execution_count": null,
   "metadata": {},
   "outputs": [],
   "source": [
    "folder_list = zip(old_folder_list,new_folder_list)"
   ]
  },
  {
   "cell_type": "code",
   "execution_count": null,
   "metadata": {},
   "outputs": [],
   "source": [
    "for old, new in folder_list:\n",
    "    for label in class_group_map.keys():\n",
    "        old_path = 'Dataset/images/' + old + '/' + label\n",
    "        new_path = 'Dataset/images/' + new + '/' + label\n",
    "        print('Copying ' + old_path + ' to ' + new_path)\n",
    "        \n",
    "        files = os.listdir(old_path)\n",
    "        for file in tqdm(files):\n",
    "            source_file = os.path.join(old_path, file)\n",
    "            destination_file = os.path.join(new_path, file)\n",
    "            shutil.copy(source_file, destination_file)"
   ]
  }
 ],
 "metadata": {
  "kernelspec": {
   "display_name": "base-env",
   "language": "python",
   "name": "base"
  },
  "language_info": {
   "codemirror_mode": {
    "name": "ipython",
    "version": 3
   },
   "file_extension": ".py",
   "mimetype": "text/x-python",
   "name": "python",
   "nbconvert_exporter": "python",
   "pygments_lexer": "ipython3",
   "version": "3.11.6"
  }
 },
 "nbformat": 4,
 "nbformat_minor": 2
}
