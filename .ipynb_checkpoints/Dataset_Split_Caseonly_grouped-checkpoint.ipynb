{
 "cells": [
  {
   "cell_type": "code",
   "execution_count": 29,
   "metadata": {},
   "outputs": [],
   "source": [
    "import shutil\n",
    "import os\n",
    "from tqdm import tqdm\n",
    "import pandas as pd\n",
    "import numpy as np"
   ]
  },
  {
   "cell_type": "code",
   "execution_count": 39,
   "metadata": {},
   "outputs": [],
   "source": [
    "train_dir = 'Dataset/images/train_caseonly_grouped'\n",
    "val_dir = 'Dataset/images/validation_caseonly_grouped'\n",
    "test_dir = 'Dataset/images/test_caseonly_grouped'"
   ]
  },
  {
   "cell_type": "code",
   "execution_count": 40,
   "metadata": {},
   "outputs": [],
   "source": [
    "class_names = ['Fluid_overload', 'Infection', 'Mass_Like_Lesions', 'Parenchymal_Disease', \n",
    "               'Atelectasis', 'Cardiomegaly', 'Pneumothorax', 'Pleural_Thickening']"
   ]
  },
  {
   "cell_type": "code",
   "execution_count": 41,
   "metadata": {},
   "outputs": [
    {
     "name": "stdout",
     "output_type": "stream",
     "text": [
      "Existed path Dataset/images/train_caseonly_grouped/Fluid_overload\n",
      "Existed path Dataset/images/train_caseonly_grouped/Infection\n",
      "Existed path Dataset/images/train_caseonly_grouped/Mass_Like_Lesions\n",
      "Existed path Dataset/images/train_caseonly_grouped/Parenchymal_Disease\n",
      "Existed path Dataset/images/train_caseonly_grouped/Atelectasis\n",
      "Existed path Dataset/images/train_caseonly_grouped/Cardiomegaly\n",
      "Existed path Dataset/images/train_caseonly_grouped/Pneumothorax\n",
      "Existed path Dataset/images/train_caseonly_grouped/Pleural_Thickening\n",
      "Creating  Dataset/images/validation_caseonly_grouped/Fluid_overload\n",
      "Creating  Dataset/images/validation_caseonly_grouped/Infection\n",
      "Creating  Dataset/images/validation_caseonly_grouped/Mass_Like_Lesions\n",
      "Creating  Dataset/images/validation_caseonly_grouped/Parenchymal_Disease\n",
      "Creating  Dataset/images/validation_caseonly_grouped/Atelectasis\n",
      "Creating  Dataset/images/validation_caseonly_grouped/Cardiomegaly\n",
      "Creating  Dataset/images/validation_caseonly_grouped/Pneumothorax\n",
      "Creating  Dataset/images/validation_caseonly_grouped/Pleural_Thickening\n",
      "Creating  Dataset/images/test_caseonly_grouped/Fluid_overload\n",
      "Creating  Dataset/images/test_caseonly_grouped/Infection\n",
      "Creating  Dataset/images/test_caseonly_grouped/Mass_Like_Lesions\n",
      "Creating  Dataset/images/test_caseonly_grouped/Parenchymal_Disease\n",
      "Creating  Dataset/images/test_caseonly_grouped/Atelectasis\n",
      "Creating  Dataset/images/test_caseonly_grouped/Cardiomegaly\n",
      "Creating  Dataset/images/test_caseonly_grouped/Pneumothorax\n",
      "Creating  Dataset/images/test_caseonly_grouped/Pleural_Thickening\n"
     ]
    }
   ],
   "source": [
    "# creating path to store images in folders(train/val/test) with subfolders named by class-label\n",
    "for path in [train_dir, val_dir, test_dir]:\n",
    "    for label in list(class_names): \n",
    "        path_label = path + '/' + label\n",
    "        if os.path.exists(path_label)== False:\n",
    "            print('Creating ',path_label)\n",
    "            os.makedirs(path_label)\n",
    "        else: print('Existed path', path_label)"
   ]
  },
  {
   "cell_type": "code",
   "execution_count": 42,
   "metadata": {},
   "outputs": [],
   "source": [
    "class_group_map = {\n",
    "    'Edema': 'Fluid_overload',\n",
    "    'Effusion': 'Fluid_overload',\n",
    "    'Pneumonia': 'Infection',\n",
    "    'Consolidation': 'Infection',\n",
    "    'Infiltration': 'Infection',\n",
    "    'Mass': 'Mass_Like_Lesions',\n",
    "    'Nodule': 'Mass_Like_Lesions',\n",
    "    'Fibrosis': 'Parenchymal_Disease',\n",
    "    'Emphysema': 'Parenchymal_Disease',\n",
    "    'Atelectasis': 'Atelectasis',\n",
    "    'Cardiomegaly': 'Cardiomegaly',\n",
    "    'Pneumothorax': 'Pneumothorax',\n",
    "    'Pleural_Thickening': 'Pleural_Thickening'\n",
    "    }"
   ]
  },
  {
   "cell_type": "code",
   "execution_count": 43,
   "metadata": {},
   "outputs": [],
   "source": [
    "old_folder_list = [#'train_caseonly',\n",
    "                   'validation_caseonly','test_caseonly']\n",
    "new_folder_list = [#'train_caseonly_grouped',\n",
    "                   'validation_caseonly_grouped','test_caseonly_grouped']"
   ]
  },
  {
   "cell_type": "code",
   "execution_count": 44,
   "metadata": {},
   "outputs": [
    {
     "name": "stdout",
     "output_type": "stream",
     "text": [
      "Edema  --->  Fluid_overload\n",
      "Effusion  --->  Fluid_overload\n",
      "Pneumonia  --->  Infection\n",
      "Consolidation  --->  Infection\n",
      "Infiltration  --->  Infection\n",
      "Mass  --->  Mass_Like_Lesions\n",
      "Nodule  --->  Mass_Like_Lesions\n",
      "Fibrosis  --->  Parenchymal_Disease\n",
      "Emphysema  --->  Parenchymal_Disease\n",
      "Atelectasis  --->  Atelectasis\n",
      "Cardiomegaly  --->  Cardiomegaly\n",
      "Pneumothorax  --->  Pneumothorax\n",
      "Pleural_Thickening  --->  Pleural_Thickening\n"
     ]
    }
   ],
   "source": [
    "for key, item in class_group_map.items():\n",
    "    print(key,' ---> ', item)"
   ]
  },
  {
   "cell_type": "code",
   "execution_count": 45,
   "metadata": {},
   "outputs": [
    {
     "data": {
      "text/plain": [
       "13"
      ]
     },
     "execution_count": 45,
     "metadata": {},
     "output_type": "execute_result"
    }
   ],
   "source": [
    "len(class_group_map.keys())"
   ]
  },
  {
   "cell_type": "code",
   "execution_count": 46,
   "metadata": {},
   "outputs": [],
   "source": [
    "folder_list = zip(old_folder_list,new_folder_list)"
   ]
  },
  {
   "cell_type": "code",
   "execution_count": 47,
   "metadata": {},
   "outputs": [
    {
     "name": "stdout",
     "output_type": "stream",
     "text": [
      "Copying Dataset/images/validation_caseonly/Edema to Dataset/images/validation_caseonly_grouped/Fluid_overload\n"
     ]
    },
    {
     "name": "stderr",
     "output_type": "stream",
     "text": [
      "100%|██████████| 153/153 [00:04<00:00, 31.83it/s]\n"
     ]
    },
    {
     "name": "stdout",
     "output_type": "stream",
     "text": [
      "Copying Dataset/images/validation_caseonly/Effusion to Dataset/images/validation_caseonly_grouped/Fluid_overload\n"
     ]
    },
    {
     "name": "stderr",
     "output_type": "stream",
     "text": [
      "100%|██████████| 1184/1184 [00:37<00:00, 31.34it/s]\n"
     ]
    },
    {
     "name": "stdout",
     "output_type": "stream",
     "text": [
      "Copying Dataset/images/validation_caseonly/Pneumonia to Dataset/images/validation_caseonly_grouped/Infection\n"
     ]
    },
    {
     "name": "stderr",
     "output_type": "stream",
     "text": [
      "100%|██████████| 115/115 [00:03<00:00, 33.37it/s]\n"
     ]
    },
    {
     "name": "stdout",
     "output_type": "stream",
     "text": [
      "Copying Dataset/images/validation_caseonly/Consolidation to Dataset/images/validation_caseonly_grouped/Infection\n"
     ]
    },
    {
     "name": "stderr",
     "output_type": "stream",
     "text": [
      "100%|██████████| 367/367 [00:10<00:00, 35.06it/s]\n"
     ]
    },
    {
     "name": "stdout",
     "output_type": "stream",
     "text": [
      "Copying Dataset/images/validation_caseonly/Infiltration to Dataset/images/validation_caseonly_grouped/Infection\n"
     ]
    },
    {
     "name": "stderr",
     "output_type": "stream",
     "text": [
      "100%|██████████| 1824/1824 [00:54<00:00, 33.48it/s]\n"
     ]
    },
    {
     "name": "stdout",
     "output_type": "stream",
     "text": [
      "Copying Dataset/images/validation_caseonly/Mass to Dataset/images/validation_caseonly_grouped/Mass_Like_Lesions\n"
     ]
    },
    {
     "name": "stderr",
     "output_type": "stream",
     "text": [
      "100%|██████████| 563/563 [00:13<00:00, 40.32it/s]\n"
     ]
    },
    {
     "name": "stdout",
     "output_type": "stream",
     "text": [
      "Copying Dataset/images/validation_caseonly/Nodule to Dataset/images/validation_caseonly_grouped/Mass_Like_Lesions\n"
     ]
    },
    {
     "name": "stderr",
     "output_type": "stream",
     "text": [
      "100%|██████████| 641/641 [00:16<00:00, 37.84it/s]\n"
     ]
    },
    {
     "name": "stdout",
     "output_type": "stream",
     "text": [
      "Copying Dataset/images/validation_caseonly/Fibrosis to Dataset/images/validation_caseonly_grouped/Parenchymal_Disease\n"
     ]
    },
    {
     "name": "stderr",
     "output_type": "stream",
     "text": [
      "100%|██████████| 173/173 [00:05<00:00, 31.93it/s]\n"
     ]
    },
    {
     "name": "stdout",
     "output_type": "stream",
     "text": [
      "Copying Dataset/images/validation_caseonly/Emphysema to Dataset/images/validation_caseonly_grouped/Parenchymal_Disease\n"
     ]
    },
    {
     "name": "stderr",
     "output_type": "stream",
     "text": [
      "100%|██████████| 187/187 [00:07<00:00, 24.72it/s]\n"
     ]
    },
    {
     "name": "stdout",
     "output_type": "stream",
     "text": [
      "Copying Dataset/images/validation_caseonly/Atelectasis to Dataset/images/validation_caseonly_grouped/Atelectasis\n"
     ]
    },
    {
     "name": "stderr",
     "output_type": "stream",
     "text": [
      "100%|██████████| 1030/1030 [00:30<00:00, 34.03it/s]\n"
     ]
    },
    {
     "name": "stdout",
     "output_type": "stream",
     "text": [
      "Copying Dataset/images/validation_caseonly/Cardiomegaly to Dataset/images/validation_caseonly_grouped/Cardiomegaly\n"
     ]
    },
    {
     "name": "stderr",
     "output_type": "stream",
     "text": [
      "100%|██████████| 202/202 [00:05<00:00, 39.58it/s]\n"
     ]
    },
    {
     "name": "stdout",
     "output_type": "stream",
     "text": [
      "Copying Dataset/images/validation_caseonly/Pneumothorax to Dataset/images/validation_caseonly_grouped/Pneumothorax\n"
     ]
    },
    {
     "name": "stderr",
     "output_type": "stream",
     "text": [
      "100%|██████████| 317/317 [00:08<00:00, 35.92it/s]\n"
     ]
    },
    {
     "name": "stdout",
     "output_type": "stream",
     "text": [
      "Copying Dataset/images/validation_caseonly/Pleural_Thickening to Dataset/images/validation_caseonly_grouped/Pleural_Thickening\n"
     ]
    },
    {
     "name": "stderr",
     "output_type": "stream",
     "text": [
      "100%|██████████| 288/288 [00:08<00:00, 32.30it/s]\n"
     ]
    },
    {
     "name": "stdout",
     "output_type": "stream",
     "text": [
      "Copying Dataset/images/test_caseonly/Edema to Dataset/images/test_caseonly_grouped/Fluid_overload\n"
     ]
    },
    {
     "name": "stderr",
     "output_type": "stream",
     "text": [
      "100%|██████████| 925/925 [00:25<00:00, 36.56it/s]\n"
     ]
    },
    {
     "name": "stdout",
     "output_type": "stream",
     "text": [
      "Copying Dataset/images/test_caseonly/Effusion to Dataset/images/test_caseonly_grouped/Fluid_overload\n"
     ]
    },
    {
     "name": "stderr",
     "output_type": "stream",
     "text": [
      "100%|██████████| 4658/4658 [02:07<00:00, 36.45it/s]\n"
     ]
    },
    {
     "name": "stdout",
     "output_type": "stream",
     "text": [
      "Copying Dataset/images/test_caseonly/Pneumonia to Dataset/images/test_caseonly_grouped/Infection\n"
     ]
    },
    {
     "name": "stderr",
     "output_type": "stream",
     "text": [
      "100%|██████████| 555/555 [00:15<00:00, 36.45it/s]\n"
     ]
    },
    {
     "name": "stdout",
     "output_type": "stream",
     "text": [
      "Copying Dataset/images/test_caseonly/Consolidation to Dataset/images/test_caseonly_grouped/Infection\n"
     ]
    },
    {
     "name": "stderr",
     "output_type": "stream",
     "text": [
      "100%|██████████| 1815/1815 [00:47<00:00, 38.02it/s]\n"
     ]
    },
    {
     "name": "stdout",
     "output_type": "stream",
     "text": [
      "Copying Dataset/images/test_caseonly/Infiltration to Dataset/images/test_caseonly_grouped/Infection\n"
     ]
    },
    {
     "name": "stderr",
     "output_type": "stream",
     "text": [
      "100%|██████████| 6112/6112 [02:46<00:00, 36.66it/s]\n"
     ]
    },
    {
     "name": "stdout",
     "output_type": "stream",
     "text": [
      "Copying Dataset/images/test_caseonly/Mass to Dataset/images/test_caseonly_grouped/Mass_Like_Lesions\n"
     ]
    },
    {
     "name": "stderr",
     "output_type": "stream",
     "text": [
      "100%|██████████| 1748/1748 [00:48<00:00, 36.12it/s]\n"
     ]
    },
    {
     "name": "stdout",
     "output_type": "stream",
     "text": [
      "Copying Dataset/images/test_caseonly/Nodule to Dataset/images/test_caseonly_grouped/Mass_Like_Lesions\n"
     ]
    },
    {
     "name": "stderr",
     "output_type": "stream",
     "text": [
      "100%|██████████| 1623/1623 [00:49<00:00, 32.88it/s]\n"
     ]
    },
    {
     "name": "stdout",
     "output_type": "stream",
     "text": [
      "Copying Dataset/images/test_caseonly/Fibrosis to Dataset/images/test_caseonly_grouped/Parenchymal_Disease\n"
     ]
    },
    {
     "name": "stderr",
     "output_type": "stream",
     "text": [
      "100%|██████████| 435/435 [00:13<00:00, 32.30it/s]\n"
     ]
    },
    {
     "name": "stdout",
     "output_type": "stream",
     "text": [
      "Copying Dataset/images/test_caseonly/Emphysema to Dataset/images/test_caseonly_grouped/Parenchymal_Disease\n"
     ]
    },
    {
     "name": "stderr",
     "output_type": "stream",
     "text": [
      "100%|██████████| 1093/1093 [00:30<00:00, 36.25it/s]\n"
     ]
    },
    {
     "name": "stdout",
     "output_type": "stream",
     "text": [
      "Copying Dataset/images/test_caseonly/Atelectasis to Dataset/images/test_caseonly_grouped/Atelectasis\n"
     ]
    },
    {
     "name": "stderr",
     "output_type": "stream",
     "text": [
      "100%|██████████| 3279/3279 [01:35<00:00, 34.38it/s]\n"
     ]
    },
    {
     "name": "stdout",
     "output_type": "stream",
     "text": [
      "Copying Dataset/images/test_caseonly/Cardiomegaly to Dataset/images/test_caseonly_grouped/Cardiomegaly\n"
     ]
    },
    {
     "name": "stderr",
     "output_type": "stream",
     "text": [
      "100%|██████████| 1069/1069 [00:32<00:00, 32.97it/s]\n"
     ]
    },
    {
     "name": "stdout",
     "output_type": "stream",
     "text": [
      "Copying Dataset/images/test_caseonly/Pneumothorax to Dataset/images/test_caseonly_grouped/Pneumothorax\n"
     ]
    },
    {
     "name": "stderr",
     "output_type": "stream",
     "text": [
      "100%|██████████| 2665/2665 [01:12<00:00, 36.94it/s]\n"
     ]
    },
    {
     "name": "stdout",
     "output_type": "stream",
     "text": [
      "Copying Dataset/images/test_caseonly/Pleural_Thickening to Dataset/images/test_caseonly_grouped/Pleural_Thickening\n"
     ]
    },
    {
     "name": "stderr",
     "output_type": "stream",
     "text": [
      "100%|██████████| 1143/1143 [00:32<00:00, 34.65it/s]\n"
     ]
    }
   ],
   "source": [
    "for old_folder, new_folder in folder_list:\n",
    "    for old_label, new_label in class_group_map.items():\n",
    "        old_path = 'Dataset/images/' + old_folder + '/' + old_label\n",
    "        new_path = 'Dataset/images/' + new_folder + '/' + new_label\n",
    "        print('Copying ' + old_path + ' to ' + new_path)\n",
    "        \n",
    "        files = os.listdir(old_path)\n",
    "        for file in tqdm(files):\n",
    "            source_file = os.path.join(old_path, file)\n",
    "            destination_file = os.path.join(new_path, file)\n",
    "            shutil.copy(source_file, destination_file)"
   ]
  },
  {
   "cell_type": "code",
   "execution_count": null,
   "metadata": {},
   "outputs": [],
   "source": []
  }
 ],
 "metadata": {
  "kernelspec": {
   "display_name": "base-env",
   "language": "python",
   "name": "base"
  },
  "language_info": {
   "codemirror_mode": {
    "name": "ipython",
    "version": 3
   },
   "file_extension": ".py",
   "mimetype": "text/x-python",
   "name": "python",
   "nbconvert_exporter": "python",
   "pygments_lexer": "ipython3",
   "version": "3.11.6"
  }
 },
 "nbformat": 4,
 "nbformat_minor": 2
}
