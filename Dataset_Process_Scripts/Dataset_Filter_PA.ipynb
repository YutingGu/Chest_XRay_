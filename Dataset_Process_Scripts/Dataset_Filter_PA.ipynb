{
 "cells": [
  {
   "cell_type": "code",
   "execution_count": 1,
   "metadata": {},
   "outputs": [],
   "source": [
    "import shutil\n",
    "import os\n",
    "from tqdm import tqdm\n",
    "import pandas as pd\n",
    "import numpy as np"
   ]
  },
  {
   "cell_type": "code",
   "execution_count": 2,
   "metadata": {},
   "outputs": [],
   "source": [
    "label_df = pd.read_csv('../Dataset/CXR8_Data_Entry_2017.csv', index_col=False)"
   ]
  },
  {
   "cell_type": "code",
   "execution_count": 3,
   "metadata": {},
   "outputs": [],
   "source": [
    "label_map = label_df[['Image Index', 'View Position']] "
   ]
  },
  {
   "cell_type": "code",
   "execution_count": 4,
   "metadata": {},
   "outputs": [
    {
     "data": {
      "text/plain": [
       "View Position\n",
       "PA    67310\n",
       "AP    44810\n",
       "Name: count, dtype: int64"
      ]
     },
     "execution_count": 4,
     "metadata": {},
     "output_type": "execute_result"
    }
   ],
   "source": [
    "label_map['View Position'].value_counts()"
   ]
  },
  {
   "cell_type": "code",
   "execution_count": 5,
   "metadata": {},
   "outputs": [
    {
     "name": "stderr",
     "output_type": "stream",
     "text": [
      "/var/tmp/pbs.9346852.pbs/ipykernel_2974109/435527811.py:1: SettingWithCopyWarning: \n",
      "A value is trying to be set on a copy of a slice from a DataFrame.\n",
      "Try using .loc[row_indexer,col_indexer] = value instead\n",
      "\n",
      "See the caveats in the documentation: https://pandas.pydata.org/pandas-docs/stable/user_guide/indexing.html#returning-a-view-versus-a-copy\n",
      "  label_map.loc[:,'Inclusion'] = label_map.loc[:,'View Position'] == 'PA'\n"
     ]
    }
   ],
   "source": [
    "label_map.loc[:,'Inclusion'] = label_map.loc[:,'View Position'] == 'PA'"
   ]
  },
  {
   "cell_type": "code",
   "execution_count": 6,
   "metadata": {},
   "outputs": [
    {
     "data": {
      "text/plain": [
       "Inclusion\n",
       "True     67310\n",
       "False    44810\n",
       "Name: count, dtype: int64"
      ]
     },
     "execution_count": 6,
     "metadata": {},
     "output_type": "execute_result"
    }
   ],
   "source": [
    "label_map['Inclusion'].value_counts()"
   ]
  },
  {
   "cell_type": "code",
   "execution_count": 7,
   "metadata": {},
   "outputs": [],
   "source": [
    "label_map = dict(zip(label_map['Image Index'], label_map['Inclusion']))"
   ]
  },
  {
   "cell_type": "markdown",
   "metadata": {},
   "source": [
    "# Binary"
   ]
  },
  {
   "cell_type": "code",
   "execution_count": 8,
   "metadata": {},
   "outputs": [],
   "source": [
    "train_dir = '../Dataset/images/train_binary_PA'\n",
    "val_dir = '../Dataset/images/validation_binary_PA'\n",
    "test_dir = '../Dataset/images/test_caseonly_binary_PA'"
   ]
  },
  {
   "cell_type": "code",
   "execution_count": 19,
   "metadata": {},
   "outputs": [],
   "source": [
    "class_names = ['Cases', 'Normal']"
   ]
  },
  {
   "cell_type": "code",
   "execution_count": 10,
   "metadata": {},
   "outputs": [
    {
     "name": "stdout",
     "output_type": "stream",
     "text": [
      "Existed path Dataset/images/train_binary_PA/Cases\n",
      "Existed path Dataset/images/train_binary_PA/Normal\n",
      "Existed path Dataset/images/validation_binary_PA/Cases\n",
      "Existed path Dataset/images/validation_binary_PA/Normal\n",
      "Existed path Dataset/images/test_caseonly_binary_PA/Cases\n",
      "Existed path Dataset/images/test_caseonly_binary_PA/Normal\n"
     ]
    }
   ],
   "source": [
    "# creating path to store images in folders(train/val/test) with subfolders named by class-label\n",
    "for path in [train_dir, val_dir, test_dir]:\n",
    "    for label in list(class_names): \n",
    "        path_label = path + '/' + label\n",
    "        if os.path.exists(path_label)== False:\n",
    "            print('Creating ',path_label)\n",
    "            os.makedirs(path_label)\n",
    "        else: print('Existed path', path_label)"
   ]
  },
  {
   "cell_type": "code",
   "execution_count": 11,
   "metadata": {},
   "outputs": [],
   "source": [
    "folders = os.listdir('../Dataset/images/')"
   ]
  },
  {
   "cell_type": "code",
   "execution_count": 12,
   "metadata": {},
   "outputs": [],
   "source": [
    "old_folder_list = ['train_binary','validation_binary','test_binary']\n",
    "new_folder_list = ['train_binary_PA','validation_binary_PA','test_binary_PA']"
   ]
  },
  {
   "cell_type": "code",
   "execution_count": 59,
   "metadata": {},
   "outputs": [
    {
     "name": "stdout",
     "output_type": "stream",
     "text": [
      "Copying Dataset/images/train_binary/Cases to Dataset/images/train_binary_PA/Cases\n"
     ]
    },
    {
     "name": "stderr",
     "output_type": "stream",
     "text": [
      "100%|██████████| 31391/31391 [10:31<00:00, 49.69it/s]\n"
     ]
    },
    {
     "name": "stdout",
     "output_type": "stream",
     "text": [
      "Copying Dataset/images/train_binary/Normal to Dataset/images/train_binary_PA/Normal\n"
     ]
    },
    {
     "name": "stderr",
     "output_type": "stream",
     "text": [
      "100%|██████████| 44379/44379 [16:53<00:00, 43.79it/s]\n"
     ]
    }
   ],
   "source": [
    "# training set\n",
    "old = old_folder_list[0]\n",
    "new = new_folder_list[0]\n",
    "\n",
    "n = 0\n",
    "for label in class_names:\n",
    "    old_path = 'Dataset/images/' + old + '/' + label\n",
    "    new_path = 'Dataset/images/' + new + '/' + label\n",
    "    print('Copying ' + old_path + ' to ' + new_path)\n",
    "\n",
    "    files = os.listdir(old_path)\n",
    "    for file in tqdm(files):\n",
    "        if label_map[file]:\n",
    "            source_file = os.path.join(old_path, file)\n",
    "            destination_file = os.path.join(new_path, file)\n",
    "            shutil.copy(source_file, destination_file)\n",
    "            n += 1 #count how many PA in train"
   ]
  },
  {
   "cell_type": "code",
   "execution_count": 60,
   "metadata": {},
   "outputs": [
    {
     "name": "stdout",
     "output_type": "stream",
     "text": [
      "49402\n"
     ]
    }
   ],
   "source": [
    "print(n)"
   ]
  },
  {
   "cell_type": "code",
   "execution_count": 13,
   "metadata": {},
   "outputs": [
    {
     "name": "stdout",
     "output_type": "stream",
     "text": [
      "Copying Dataset/images/validation_binary/Cases to Dataset/images/validation_binary_PA/Cases\n"
     ]
    },
    {
     "name": "stderr",
     "output_type": "stream",
     "text": [
      "100%|██████████| 4633/4633 [01:37<00:00, 47.45it/s]\n"
     ]
    },
    {
     "name": "stdout",
     "output_type": "stream",
     "text": [
      "Copying Dataset/images/validation_binary/Normal to Dataset/images/validation_binary_PA/Normal\n"
     ]
    },
    {
     "name": "stderr",
     "output_type": "stream",
     "text": [
      "100%|██████████| 6121/6121 [02:30<00:00, 40.61it/s]\n"
     ]
    }
   ],
   "source": [
    "# validation set\n",
    "old = old_folder_list[1]\n",
    "new = new_folder_list[1]\n",
    "\n",
    "n = 0\n",
    "for label in class_names:\n",
    "    old_path = '../Dataset/images/' + old + '/' + label\n",
    "    new_path = '../Dataset/images/' + new + '/' + label\n",
    "    print('Copying ' + old_path + ' to ' + new_path)\n",
    "\n",
    "    files = os.listdir(old_path)\n",
    "    for file in tqdm(files):\n",
    "        if label_map[file]:\n",
    "            source_file = os.path.join(old_path, file)\n",
    "            destination_file = os.path.join(new_path, file)\n",
    "            shutil.copy(source_file, destination_file)\n",
    "            n += 1"
   ]
  },
  {
   "cell_type": "code",
   "execution_count": 14,
   "metadata": {},
   "outputs": [
    {
     "name": "stdout",
     "output_type": "stream",
     "text": [
      "6812\n"
     ]
    }
   ],
   "source": [
    "print(n)"
   ]
  },
  {
   "cell_type": "code",
   "execution_count": 16,
   "metadata": {},
   "outputs": [
    {
     "name": "stdout",
     "output_type": "stream",
     "text": [
      "Copying Dataset/images/test_binary/Cases to Dataset/images/test_binary_PA/Cases\n"
     ]
    },
    {
     "name": "stderr",
     "output_type": "stream",
     "text": [
      "100%|██████████| 15735/15735 [03:54<00:00, 67.05it/s]\n"
     ]
    },
    {
     "name": "stdout",
     "output_type": "stream",
     "text": [
      "Copying Dataset/images/test_binary/Normal to Dataset/images/test_binary_PA/Normal\n"
     ]
    },
    {
     "name": "stderr",
     "output_type": "stream",
     "text": [
      "100%|██████████| 9861/9861 [03:16<00:00, 50.25it/s]\n"
     ]
    }
   ],
   "source": [
    "# test set\n",
    "old = old_folder_list[2]\n",
    "new = new_folder_list[2]\n",
    "\n",
    "n = 0\n",
    "for label in class_names:\n",
    "    old_path = '../Dataset/images/' + old + '/' + label\n",
    "    new_path = '../Dataset/images/' + new + '/' + label\n",
    "    print('Copying ' + old_path + ' to ' + new_path)\n",
    "\n",
    "    files = os.listdir(old_path)\n",
    "    for file in tqdm(files):\n",
    "        if label_map[file]:\n",
    "            source_file = os.path.join(old_path, file)\n",
    "            destination_file = os.path.join(new_path, file)\n",
    "            shutil.copy(source_file, destination_file)\n",
    "            n += 1"
   ]
  },
  {
   "cell_type": "code",
   "execution_count": 17,
   "metadata": {},
   "outputs": [
    {
     "name": "stdout",
     "output_type": "stream",
     "text": [
      "11096\n"
     ]
    }
   ],
   "source": [
    "print(n)"
   ]
  },
  {
   "cell_type": "code",
   "execution_count": 30,
   "metadata": {},
   "outputs": [
    {
     "data": {
      "text/plain": [
       "67310"
      ]
     },
     "execution_count": 30,
     "metadata": {},
     "output_type": "execute_result"
    }
   ],
   "source": [
    "49402 + 6812 + 11096"
   ]
  },
  {
   "cell_type": "code",
   "execution_count": 20,
   "metadata": {},
   "outputs": [
    {
     "name": "stdout",
     "output_type": "stream",
     "text": [
      "Dataset/images/train_binary/Cases :  31391\n",
      "Dataset/images/train_binary/Normal :  44379\n"
     ]
    }
   ],
   "source": [
    "case_grouped_total = 0\n",
    "for label in class_names:\n",
    "    old_path = '../Dataset/images/' + 'train_binary' + '/' + label\n",
    "\n",
    "    old_path_files = os.listdir(old_path)\n",
    "    \n",
    "    case_grouped_total += len(old_path_files)\n",
    "    print(old_path,': ', len(old_path_files))"
   ]
  },
  {
   "cell_type": "code",
   "execution_count": null,
   "metadata": {},
   "outputs": [],
   "source": [
    "31391"
   ]
  },
  {
   "cell_type": "markdown",
   "metadata": {},
   "source": [
    "### The ViT binary model has computed on PA images only dataset"
   ]
  },
  {
   "cell_type": "markdown",
   "metadata": {},
   "source": [
    "# Multiclass \n",
    "## Haven't finish the following part since the number of images seems incorrect"
   ]
  },
  {
   "cell_type": "code",
   "execution_count": 18,
   "metadata": {},
   "outputs": [],
   "source": [
    "train_dir = '../Dataset/images/train_caseonly_grouped_PA'\n",
    "val_dir = '../Dataset/images/validation_caseonly_grouped_PA'\n",
    "test_dir = '../Dataset/images/test_caseonly_grouped_PA'"
   ]
  },
  {
   "cell_type": "code",
   "execution_count": 8,
   "metadata": {},
   "outputs": [],
   "source": [
    "class_names = ['Fluid_overload', 'Infection', 'Mass_Like_Lesions', 'Parenchymal_Disease', \n",
    "               'Atelectasis', 'Cardiomegaly', 'Pneumothorax', 'Pleural_Thickening']"
   ]
  },
  {
   "cell_type": "code",
   "execution_count": 20,
   "metadata": {},
   "outputs": [
    {
     "name": "stdout",
     "output_type": "stream",
     "text": [
      "Creating  Dataset/images/train_caseonly_grouped_PA/Fluid_overload\n",
      "Creating  Dataset/images/train_caseonly_grouped_PA/Infection\n",
      "Creating  Dataset/images/train_caseonly_grouped_PA/Mass_Like_Lesions\n",
      "Creating  Dataset/images/train_caseonly_grouped_PA/Parenchymal_Disease\n",
      "Creating  Dataset/images/train_caseonly_grouped_PA/Atelectasis\n",
      "Creating  Dataset/images/train_caseonly_grouped_PA/Cardiomegaly\n",
      "Creating  Dataset/images/train_caseonly_grouped_PA/Pneumothorax\n",
      "Creating  Dataset/images/train_caseonly_grouped_PA/Pleural_Thickening\n",
      "Creating  Dataset/images/validation_caseonly_grouped_PA/Fluid_overload\n",
      "Creating  Dataset/images/validation_caseonly_grouped_PA/Infection\n",
      "Creating  Dataset/images/validation_caseonly_grouped_PA/Mass_Like_Lesions\n",
      "Creating  Dataset/images/validation_caseonly_grouped_PA/Parenchymal_Disease\n",
      "Creating  Dataset/images/validation_caseonly_grouped_PA/Atelectasis\n",
      "Creating  Dataset/images/validation_caseonly_grouped_PA/Cardiomegaly\n",
      "Creating  Dataset/images/validation_caseonly_grouped_PA/Pneumothorax\n",
      "Creating  Dataset/images/validation_caseonly_grouped_PA/Pleural_Thickening\n",
      "Creating  Dataset/images/test_caseonly_grouped_PA/Fluid_overload\n",
      "Creating  Dataset/images/test_caseonly_grouped_PA/Infection\n",
      "Creating  Dataset/images/test_caseonly_grouped_PA/Mass_Like_Lesions\n",
      "Creating  Dataset/images/test_caseonly_grouped_PA/Parenchymal_Disease\n",
      "Creating  Dataset/images/test_caseonly_grouped_PA/Atelectasis\n",
      "Creating  Dataset/images/test_caseonly_grouped_PA/Cardiomegaly\n",
      "Creating  Dataset/images/test_caseonly_grouped_PA/Pneumothorax\n",
      "Creating  Dataset/images/test_caseonly_grouped_PA/Pleural_Thickening\n"
     ]
    }
   ],
   "source": [
    "# creating path to store images in folders(train/val/test) with subfolders named by class-label\n",
    "for path in [train_dir, val_dir, test_dir]:\n",
    "    for label in list(class_names): \n",
    "        path_label = path + '/' + label\n",
    "        if os.path.exists(path_label)== False:\n",
    "            print('Creating ',path_label)\n",
    "            os.makedirs(path_label)\n",
    "        else: print('Existed path', path_label)"
   ]
  },
  {
   "cell_type": "code",
   "execution_count": 21,
   "metadata": {},
   "outputs": [],
   "source": [
    "folders = os.listdir('../Dataset/images/')"
   ]
  },
  {
   "cell_type": "code",
   "execution_count": 22,
   "metadata": {},
   "outputs": [],
   "source": [
    "old_folder_list = ['train_caseonly_grouped','validation_caseonly_grouped','test_caseonly_grouped']\n",
    "new_folder_list = ['train_caseonly_grouped_PA','validation_caseonly_grouped_PA','test_caseonly_grouped_PA']"
   ]
  },
  {
   "cell_type": "code",
   "execution_count": 24,
   "metadata": {},
   "outputs": [
    {
     "name": "stdout",
     "output_type": "stream",
     "text": [
      "Copying Dataset/images/train_caseonly_grouped/Fluid_overload to Dataset/images/train_caseonly_grouped_PA/Fluid_overload\n"
     ]
    },
    {
     "name": "stderr",
     "output_type": "stream",
     "text": [
      "100%|██████████| 8384/8384 [03:02<00:00, 45.88it/s]\n"
     ]
    },
    {
     "name": "stdout",
     "output_type": "stream",
     "text": [
      "Copying Dataset/images/train_caseonly_grouped/Infection to Dataset/images/train_caseonly_grouped_PA/Infection\n"
     ]
    },
    {
     "name": "stderr",
     "output_type": "stream",
     "text": [
      "100%|██████████| 14259/14259 [06:29<00:00, 36.56it/s]\n"
     ]
    },
    {
     "name": "stdout",
     "output_type": "stream",
     "text": [
      "Copying Dataset/images/train_caseonly_grouped/Mass_Like_Lesions to Dataset/images/train_caseonly_grouped_PA/Mass_Like_Lesions\n"
     ]
    },
    {
     "name": "stderr",
     "output_type": "stream",
     "text": [
      "100%|██████████| 7030/7030 [03:35<00:00, 32.61it/s]\n"
     ]
    },
    {
     "name": "stdout",
     "output_type": "stream",
     "text": [
      "Copying Dataset/images/train_caseonly_grouped/Parenchymal_Disease to Dataset/images/train_caseonly_grouped_PA/Parenchymal_Disease\n"
     ]
    },
    {
     "name": "stderr",
     "output_type": "stream",
     "text": [
      "100%|██████████| 2301/2301 [01:23<00:00, 27.70it/s]\n"
     ]
    },
    {
     "name": "stdout",
     "output_type": "stream",
     "text": [
      "Copying Dataset/images/train_caseonly_grouped/Atelectasis to Dataset/images/train_caseonly_grouped_PA/Atelectasis\n"
     ]
    },
    {
     "name": "stderr",
     "output_type": "stream",
     "text": [
      "100%|██████████| 7250/7250 [03:01<00:00, 39.90it/s]\n"
     ]
    },
    {
     "name": "stdout",
     "output_type": "stream",
     "text": [
      "Copying Dataset/images/train_caseonly_grouped/Cardiomegaly to Dataset/images/train_caseonly_grouped_PA/Cardiomegaly\n"
     ]
    },
    {
     "name": "stderr",
     "output_type": "stream",
     "text": [
      "100%|██████████| 1505/1505 [00:45<00:00, 33.26it/s]\n"
     ]
    },
    {
     "name": "stdout",
     "output_type": "stream",
     "text": [
      "Copying Dataset/images/train_caseonly_grouped/Pneumothorax to Dataset/images/train_caseonly_grouped_PA/Pneumothorax\n"
     ]
    },
    {
     "name": "stderr",
     "output_type": "stream",
     "text": [
      "100%|██████████| 2320/2320 [01:10<00:00, 33.03it/s]\n"
     ]
    },
    {
     "name": "stdout",
     "output_type": "stream",
     "text": [
      "Copying Dataset/images/train_caseonly_grouped/Pleural_Thickening to Dataset/images/train_caseonly_grouped_PA/Pleural_Thickening\n"
     ]
    },
    {
     "name": "stderr",
     "output_type": "stream",
     "text": [
      "100%|██████████| 1954/1954 [01:06<00:00, 29.49it/s]\n"
     ]
    }
   ],
   "source": [
    "# training set\n",
    "old = old_folder_list[0]\n",
    "new = new_folder_list[0]\n",
    "\n",
    "n = 0\n",
    "for label in class_names:\n",
    "    old_path = 'Dataset/images/' + old + '/' + label\n",
    "    new_path = 'Dataset/images/' + new + '/' + label\n",
    "    print('Copying ' + old_path + ' to ' + new_path)\n",
    "\n",
    "    files = os.listdir(old_path)\n",
    "    for file in tqdm(files):\n",
    "        if label_map[file]:\n",
    "            source_file = os.path.join(old_path, file)\n",
    "            destination_file = os.path.join(new_path, file)\n",
    "            shutil.copy(source_file, destination_file)\n",
    "            n += 1 #count how many PA in train"
   ]
  },
  {
   "cell_type": "code",
   "execution_count": 25,
   "metadata": {},
   "outputs": [
    {
     "name": "stdout",
     "output_type": "stream",
     "text": [
      "26514\n"
     ]
    }
   ],
   "source": [
    "print(n)"
   ]
  },
  {
   "cell_type": "code",
   "execution_count": 26,
   "metadata": {},
   "outputs": [
    {
     "name": "stdout",
     "output_type": "stream",
     "text": [
      "Copying Dataset/images/validation_caseonly_grouped/Fluid_overload to Dataset/images/validation_caseonly_grouped_PA/Fluid_overload\n"
     ]
    },
    {
     "name": "stderr",
     "output_type": "stream",
     "text": [
      "100%|██████████| 1306/1306 [00:25<00:00, 52.20it/s]\n"
     ]
    },
    {
     "name": "stdout",
     "output_type": "stream",
     "text": [
      "Copying Dataset/images/validation_caseonly_grouped/Infection to Dataset/images/validation_caseonly_grouped_PA/Infection\n"
     ]
    },
    {
     "name": "stderr",
     "output_type": "stream",
     "text": [
      "100%|██████████| 2154/2154 [00:49<00:00, 43.69it/s]\n"
     ]
    },
    {
     "name": "stdout",
     "output_type": "stream",
     "text": [
      "Copying Dataset/images/validation_caseonly_grouped/Mass_Like_Lesions to Dataset/images/validation_caseonly_grouped_PA/Mass_Like_Lesions\n"
     ]
    },
    {
     "name": "stderr",
     "output_type": "stream",
     "text": [
      "100%|██████████| 1125/1125 [00:29<00:00, 37.73it/s]\n"
     ]
    },
    {
     "name": "stdout",
     "output_type": "stream",
     "text": [
      "Copying Dataset/images/validation_caseonly_grouped/Parenchymal_Disease to Dataset/images/validation_caseonly_grouped_PA/Parenchymal_Disease\n"
     ]
    },
    {
     "name": "stderr",
     "output_type": "stream",
     "text": [
      "100%|██████████| 355/355 [00:14<00:00, 25.23it/s]\n"
     ]
    },
    {
     "name": "stdout",
     "output_type": "stream",
     "text": [
      "Copying Dataset/images/validation_caseonly_grouped/Atelectasis to Dataset/images/validation_caseonly_grouped_PA/Atelectasis\n"
     ]
    },
    {
     "name": "stderr",
     "output_type": "stream",
     "text": [
      "100%|██████████| 1030/1030 [00:22<00:00, 44.81it/s]\n"
     ]
    },
    {
     "name": "stdout",
     "output_type": "stream",
     "text": [
      "Copying Dataset/images/validation_caseonly_grouped/Cardiomegaly to Dataset/images/validation_caseonly_grouped_PA/Cardiomegaly\n"
     ]
    },
    {
     "name": "stderr",
     "output_type": "stream",
     "text": [
      "100%|██████████| 202/202 [00:05<00:00, 34.63it/s]\n"
     ]
    },
    {
     "name": "stdout",
     "output_type": "stream",
     "text": [
      "Copying Dataset/images/validation_caseonly_grouped/Pneumothorax to Dataset/images/validation_caseonly_grouped_PA/Pneumothorax\n"
     ]
    },
    {
     "name": "stderr",
     "output_type": "stream",
     "text": [
      "100%|██████████| 317/317 [00:09<00:00, 32.82it/s]\n"
     ]
    },
    {
     "name": "stdout",
     "output_type": "stream",
     "text": [
      "Copying Dataset/images/validation_caseonly_grouped/Pleural_Thickening to Dataset/images/validation_caseonly_grouped_PA/Pleural_Thickening\n"
     ]
    },
    {
     "name": "stderr",
     "output_type": "stream",
     "text": [
      "100%|██████████| 288/288 [00:07<00:00, 38.22it/s]\n"
     ]
    }
   ],
   "source": [
    "# validation set\n",
    "old = old_folder_list[1]\n",
    "new = new_folder_list[1]\n",
    "\n",
    "n = 0\n",
    "for label in class_names:\n",
    "    old_path = '../Dataset/images/' + old + '/' + label\n",
    "    new_path = '../Dataset/images/' + new + '/' + label\n",
    "    print('Copying ' + old_path + ' to ' + new_path)\n",
    "\n",
    "    files = os.listdir(old_path)\n",
    "    for file in tqdm(files):\n",
    "        if label_map[file]:\n",
    "            source_file = os.path.join(old_path, file)\n",
    "            destination_file = os.path.join(new_path, file)\n",
    "            shutil.copy(source_file, destination_file)\n",
    "            n += 1"
   ]
  },
  {
   "cell_type": "code",
   "execution_count": 27,
   "metadata": {},
   "outputs": [
    {
     "name": "stdout",
     "output_type": "stream",
     "text": [
      "3885\n"
     ]
    }
   ],
   "source": [
    "print(n)"
   ]
  },
  {
   "cell_type": "code",
   "execution_count": 28,
   "metadata": {},
   "outputs": [
    {
     "name": "stdout",
     "output_type": "stream",
     "text": [
      "Copying Dataset/images/test_caseonly_grouped/Fluid_overload to Dataset/images/test_caseonly_grouped_PA/Fluid_overload\n"
     ]
    },
    {
     "name": "stderr",
     "output_type": "stream",
     "text": [
      "100%|██████████| 5337/5337 [01:14<00:00, 71.81it/s]\n"
     ]
    },
    {
     "name": "stdout",
     "output_type": "stream",
     "text": [
      "Copying Dataset/images/test_caseonly_grouped/Infection to Dataset/images/test_caseonly_grouped_PA/Infection\n"
     ]
    },
    {
     "name": "stderr",
     "output_type": "stream",
     "text": [
      "100%|██████████| 7671/7671 [01:44<00:00, 73.67it/s]\n"
     ]
    },
    {
     "name": "stdout",
     "output_type": "stream",
     "text": [
      "Copying Dataset/images/test_caseonly_grouped/Mass_Like_Lesions to Dataset/images/test_caseonly_grouped_PA/Mass_Like_Lesions\n"
     ]
    },
    {
     "name": "stderr",
     "output_type": "stream",
     "text": [
      "100%|██████████| 3052/3052 [01:12<00:00, 42.13it/s]\n"
     ]
    },
    {
     "name": "stdout",
     "output_type": "stream",
     "text": [
      "Copying Dataset/images/test_caseonly_grouped/Parenchymal_Disease to Dataset/images/test_caseonly_grouped_PA/Parenchymal_Disease\n"
     ]
    },
    {
     "name": "stderr",
     "output_type": "stream",
     "text": [
      "100%|██████████| 1510/1510 [00:46<00:00, 32.42it/s]\n"
     ]
    },
    {
     "name": "stdout",
     "output_type": "stream",
     "text": [
      "Copying Dataset/images/test_caseonly_grouped/Atelectasis to Dataset/images/test_caseonly_grouped_PA/Atelectasis\n"
     ]
    },
    {
     "name": "stderr",
     "output_type": "stream",
     "text": [
      "100%|██████████| 3279/3279 [00:52<00:00, 62.44it/s]\n"
     ]
    },
    {
     "name": "stdout",
     "output_type": "stream",
     "text": [
      "Copying Dataset/images/test_caseonly_grouped/Cardiomegaly to Dataset/images/test_caseonly_grouped_PA/Cardiomegaly\n"
     ]
    },
    {
     "name": "stderr",
     "output_type": "stream",
     "text": [
      "100%|██████████| 1069/1069 [00:20<00:00, 52.04it/s]\n"
     ]
    },
    {
     "name": "stdout",
     "output_type": "stream",
     "text": [
      "Copying Dataset/images/test_caseonly_grouped/Pneumothorax to Dataset/images/test_caseonly_grouped_PA/Pneumothorax\n"
     ]
    },
    {
     "name": "stderr",
     "output_type": "stream",
     "text": [
      "100%|██████████| 2665/2665 [01:14<00:00, 35.86it/s]\n"
     ]
    },
    {
     "name": "stdout",
     "output_type": "stream",
     "text": [
      "Copying Dataset/images/test_caseonly_grouped/Pleural_Thickening to Dataset/images/test_caseonly_grouped_PA/Pleural_Thickening\n"
     ]
    },
    {
     "name": "stderr",
     "output_type": "stream",
     "text": [
      "100%|██████████| 1143/1143 [00:25<00:00, 44.91it/s]\n"
     ]
    }
   ],
   "source": [
    "# test set\n",
    "old = old_folder_list[2]\n",
    "new = new_folder_list[2]\n",
    "\n",
    "n = 0\n",
    "for label in class_names:\n",
    "    old_path = '../Dataset/images/' + old + '/' + label\n",
    "    new_path = '../Dataset/images/' + new + '/' + label\n",
    "    print('Copying ' + old_path + ' to ' + new_path)\n",
    "\n",
    "    files = os.listdir(old_path)\n",
    "    for file in tqdm(files):\n",
    "        if label_map[file]:\n",
    "            source_file = os.path.join(old_path, file)\n",
    "            destination_file = os.path.join(new_path, file)\n",
    "            shutil.copy(source_file, destination_file)\n",
    "            n += 1"
   ]
  },
  {
   "cell_type": "code",
   "execution_count": 29,
   "metadata": {},
   "outputs": [
    {
     "name": "stdout",
     "output_type": "stream",
     "text": [
      "10431\n"
     ]
    }
   ],
   "source": [
    "print(n)"
   ]
  },
  {
   "cell_type": "code",
   "execution_count": 31,
   "metadata": {},
   "outputs": [
    {
     "data": {
      "text/plain": [
       "26514"
      ]
     },
     "execution_count": 31,
     "metadata": {},
     "output_type": "execute_result"
    }
   ],
   "source": [
    "3833 + 988 + 4303 + 7753 + 4788 + 1689 + 1515 + 1645"
   ]
  },
  {
   "cell_type": "code",
   "execution_count": 21,
   "metadata": {},
   "outputs": [
    {
     "data": {
      "text/plain": [
       "40830"
      ]
     },
     "execution_count": 21,
     "metadata": {},
     "output_type": "execute_result"
    }
   ],
   "source": [
    "26514 + 3885 + 10431"
   ]
  },
  {
   "cell_type": "code",
   "execution_count": 15,
   "metadata": {},
   "outputs": [],
   "source": [
    "class_names = ['Atelectasis',\n",
    "                 'Cardiomegaly',\n",
    "                 'Effusion',\n",
    "                 'Infiltration',\n",
    "                 'Mass',\n",
    "                 'Nodule',\n",
    "                 'Pneumonia',\n",
    "                 'Pneumothorax',\n",
    "                 'Consolidation',\n",
    "                 'Edema',\n",
    "                 'Emphysema',\n",
    "                 'Fibrosis',\n",
    "                 'Pleural_Thickening',\n",
    "                 'Hernia']"
   ]
  },
  {
   "cell_type": "code",
   "execution_count": 16,
   "metadata": {},
   "outputs": [
    {
     "name": "stdout",
     "output_type": "stream",
     "text": [
      "Dataset/images/train_caseonly/Atelectasis :  7250\n",
      "Dataset/images/train_caseonly/Cardiomegaly :  1505\n",
      "Dataset/images/train_caseonly/Effusion :  7475\n",
      "Dataset/images/train_caseonly/Infiltration :  11958\n",
      "Dataset/images/train_caseonly/Mass :  3471\n",
      "Dataset/images/train_caseonly/Nodule :  4067\n",
      "Dataset/images/train_caseonly/Pneumonia :  761\n",
      "Dataset/images/train_caseonly/Pneumothorax :  2320\n",
      "Dataset/images/train_caseonly/Consolidation :  2485\n",
      "Dataset/images/train_caseonly/Edema :  1225\n",
      "Dataset/images/train_caseonly/Emphysema :  1236\n",
      "Dataset/images/train_caseonly/Fibrosis :  1078\n",
      "Dataset/images/train_caseonly/Pleural_Thickening :  1954\n",
      "Dataset/images/train_caseonly/Hernia :  131\n"
     ]
    }
   ],
   "source": [
    "case_grouped_total = 0\n",
    "for label in class_names:\n",
    "    old_path = '../Dataset/images/' + 'train_caseonly' + '/' + label\n",
    "    #new_path = 'Dataset/images/' + 'train_caseonly_grouped_PA' + '/' + label\n",
    "\n",
    "    old_path_files = os.listdir(old_path)\n",
    "    #new_path_files = os.listdir(new_path)\n",
    "    \n",
    "    case_grouped_total += len(old_path_files)\n",
    "    print(old_path,': ', len(old_path_files))\n",
    "    #print(new_path,': ', len(new_path_files))"
   ]
  },
  {
   "cell_type": "code",
   "execution_count": 17,
   "metadata": {},
   "outputs": [
    {
     "data": {
      "text/plain": [
       "46916"
      ]
     },
     "execution_count": 17,
     "metadata": {},
     "output_type": "execute_result"
    }
   ],
   "source": [
    "case_grouped_total"
   ]
  },
  {
   "cell_type": "code",
   "execution_count": null,
   "metadata": {},
   "outputs": [],
   "source": [
    "caseonly_grouped = 45003\n",
    "caseonly = 46916"
   ]
  },
  {
   "cell_type": "code",
   "execution_count": 18,
   "metadata": {},
   "outputs": [
    {
     "data": {
      "text/plain": [
       "1913"
      ]
     },
     "execution_count": 18,
     "metadata": {},
     "output_type": "execute_result"
    }
   ],
   "source": [
    "46916 - 45003"
   ]
  },
  {
   "cell_type": "code",
   "execution_count": null,
   "metadata": {},
   "outputs": [],
   "source": []
  },
  {
   "cell_type": "code",
   "execution_count": null,
   "metadata": {},
   "outputs": [],
   "source": []
  }
 ],
 "metadata": {
  "kernelspec": {
   "display_name": "base-env",
   "language": "python",
   "name": "base"
  },
  "language_info": {
   "codemirror_mode": {
    "name": "ipython",
    "version": 3
   },
   "file_extension": ".py",
   "mimetype": "text/x-python",
   "name": "python",
   "nbconvert_exporter": "python",
   "pygments_lexer": "ipython3",
   "version": "3.11.6"
  }
 },
 "nbformat": 4,
 "nbformat_minor": 2
}
