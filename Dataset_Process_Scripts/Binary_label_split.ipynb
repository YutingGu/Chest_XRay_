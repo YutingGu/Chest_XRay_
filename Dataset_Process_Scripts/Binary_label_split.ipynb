{
 "cells": [
  {
   "cell_type": "code",
   "execution_count": 1,
   "metadata": {},
   "outputs": [],
   "source": [
    "import shutil\n",
    "import os\n",
    "from tqdm import tqdm\n",
    "import pandas as pd\n",
    "import numpy as np"
   ]
  },
  {
   "cell_type": "code",
   "execution_count": 2,
   "metadata": {},
   "outputs": [],
   "source": [
    "train_label = pd.read_csv('../Dataset/train_label.csv', index_col=False)\n",
    "val_label = pd.read_csv('../Dataset/val_label.csv', index_col=False)\n",
    "test_label = pd.read_csv('../Dataset/test_label.csv', index_col=False)"
   ]
  },
  {
   "cell_type": "code",
   "execution_count": 3,
   "metadata": {},
   "outputs": [],
   "source": [
    "train_label_map = train_label.set_index('FileName').to_dict(orient='index')\n",
    "val_label_map = val_label.set_index('FileName').to_dict(orient='index')\n",
    "test_label_map = test_label.set_index('FileName').to_dict(orient='index')"
   ]
  },
  {
   "cell_type": "code",
   "execution_count": 8,
   "metadata": {},
   "outputs": [],
   "source": [
    "source_dir = '../Dataset/images'\n",
    "train_dir_nl = '../Dataset/images/train_no_label'\n",
    "val_dir_nl = '../Dataset/images/validation_no_label'\n",
    "test_dir_nl = '../Dataset/images/test_no_label'"
   ]
  },
  {
   "cell_type": "code",
   "execution_count": 5,
   "metadata": {},
   "outputs": [],
   "source": [
    "train_dir = '../Dataset/images/train_binary'\n",
    "val_dir = '../Dataset/images/validation_binary'\n",
    "test_dir = '../Dataset/images/test_binary'"
   ]
  },
  {
   "cell_type": "code",
   "execution_count": 6,
   "metadata": {},
   "outputs": [
    {
     "name": "stdout",
     "output_type": "stream",
     "text": [
      "Creating  Dataset/images/train_binary/Normal\n",
      "Creating  Dataset/images/train_binary/Cases\n",
      "Creating  Dataset/images/validation_binary/Normal\n",
      "Creating  Dataset/images/validation_binary/Cases\n",
      "Creating  Dataset/images/test_binary/Normal\n",
      "Creating  Dataset/images/test_binary/Cases\n"
     ]
    }
   ],
   "source": [
    "# creating path to store images in folders(train/val/test) with subfolders named by class-label\n",
    "for path in [train_dir, val_dir, test_dir]:\n",
    "    for label in ['Normal', 'Cases']: \n",
    "        path_label = path + '/' + label\n",
    "        if os.path.exists(path_label)== False:\n",
    "            print('Creating ',path_label)\n",
    "            os.makedirs(path_label)\n",
    "        else: print('Existed path', path_label)"
   ]
  },
  {
   "cell_type": "code",
   "execution_count": 9,
   "metadata": {},
   "outputs": [],
   "source": [
    "path_label_pair = [(train_dir_nl,train_dir,train_label_map),\n",
    "                  (val_dir_nl,val_dir,val_label_map),\n",
    "                  (test_dir_nl,test_dir,test_label_map)]"
   ]
  },
  {
   "cell_type": "code",
   "execution_count": 10,
   "metadata": {},
   "outputs": [
    {
     "name": "stdout",
     "output_type": "stream",
     "text": [
      "Copying Dataset/images/train_binary\n"
     ]
    },
    {
     "name": "stderr",
     "output_type": "stream",
     "text": [
      "100%|██████████| 75770/75770 [40:22<00:00, 31.27it/s]\n"
     ]
    },
    {
     "name": "stdout",
     "output_type": "stream",
     "text": [
      "Copying Dataset/images/validation_binary\n"
     ]
    },
    {
     "name": "stderr",
     "output_type": "stream",
     "text": [
      "100%|██████████| 10754/10754 [06:37<00:00, 27.05it/s]\n"
     ]
    },
    {
     "name": "stdout",
     "output_type": "stream",
     "text": [
      "Copying Dataset/images/test_binary\n"
     ]
    },
    {
     "name": "stderr",
     "output_type": "stream",
     "text": [
      "100%|██████████| 25596/25596 [13:27<00:00, 31.69it/s]\n"
     ]
    }
   ],
   "source": [
    "for path_nl, path, label_map in path_label_pair:\n",
    "    print('Copying '+path)\n",
    "    files = os.listdir(path_nl)\n",
    "    for file in tqdm(files):\n",
    "        label_dict = label_map[file]\n",
    "        source_file = os.path.join(path_nl, file)\n",
    "        \n",
    "        # images without any diagnosis\n",
    "        if sum(label_map[file].values()) == 0:\n",
    "            path_label = path + '/Normal'\n",
    "            destination_file = os.path.join(path_label, file)\n",
    "            shutil.copy(source_file, destination_file)\n",
    "            \n",
    "        # images with diagnosis\n",
    "        else:\n",
    "            path_label = path + '/Cases'\n",
    "            destination_file = os.path.join(path_label, file)\n",
    "            shutil.copy(source_file, destination_file)"
   ]
  },
  {
   "cell_type": "code",
   "execution_count": 11,
   "metadata": {},
   "outputs": [
    {
     "name": "stdout",
     "output_type": "stream",
     "text": [
      "30G\tDataset/images/train_no_label\n",
      "30G\tDataset/images/train_binary\n",
      "4.3G\tDataset/images/validation_no_label\n",
      "4.3G\tDataset/images/validation_binary\n",
      "10G\tDataset/images/test_no_label\n",
      "10G\tDataset/images/test_binary\n"
     ]
    }
   ],
   "source": [
    "!du -sh Dataset/images/train_no_label\n",
    "!du -sh Dataset/images/train_binary\n",
    "!du -sh Dataset/images/validation_no_label\n",
    "!du -sh Dataset/images/validation_binary\n",
    "!du -sh Dataset/images/test_no_label\n",
    "!du -sh Dataset/images/test_binary"
   ]
  },
  {
   "cell_type": "code",
   "execution_count": null,
   "metadata": {},
   "outputs": [],
   "source": []
  }
 ],
 "metadata": {
  "kernelspec": {
   "display_name": "base-env",
   "language": "python",
   "name": "base"
  },
  "language_info": {
   "codemirror_mode": {
    "name": "ipython",
    "version": 3
   },
   "file_extension": ".py",
   "mimetype": "text/x-python",
   "name": "python",
   "nbconvert_exporter": "python",
   "pygments_lexer": "ipython3",
   "version": "3.11.6"
  }
 },
 "nbformat": 4,
 "nbformat_minor": 2
}
