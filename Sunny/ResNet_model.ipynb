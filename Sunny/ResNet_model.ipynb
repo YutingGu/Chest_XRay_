{
 "cells": [
  {
   "cell_type": "markdown",
   "metadata": {},
   "source": [
    "## Fine-tuning a ResNet50 model for Chest X-Ray Classification"
   ]
  },
  {
   "cell_type": "code",
   "execution_count": 1,
   "metadata": {},
   "outputs": [],
   "source": [
    "from torchvision import datasets, transforms\n",
    "from torch.utils.data import DataLoader\n",
    "\n",
    "import torchvision.models as models\n",
    "import torch.nn as nn\n",
    "\n",
    "import torch.optim as optim"
   ]
  },
  {
   "cell_type": "code",
   "execution_count": 2,
   "metadata": {},
   "outputs": [],
   "source": [
    "# Define your transformations\n",
    "transform = transforms.Compose([\n",
    "    transforms.Resize((224, 224)), # Resize images to fit the model\n",
    "    transforms.ToTensor(),\n",
    "    transforms.Normalize(mean=[0.485, 0.456, 0.406], std=[0.229, 0.224, 0.225]), # mean and std are set to the standard of the training data for resnet50\n",
    "])\n",
    "\n",
    "# Load your dataset\n",
    "train_dataset = datasets.ImageFolder(root='/rds/general/user/sz2823/home/ML_project/Chest_XRay_Classification/Dataset/images/train', transform=transform)\n",
    "val_dataset = datasets.ImageFolder(root='/rds/general/user/sz2823/home/ML_project/Chest_XRay_Classification/Dataset/images/validation', transform=transform)\n",
    "\n",
    "# Data loaders\n",
    "train_loader = DataLoader(train_dataset, batch_size=32, shuffle=True)\n",
    "val_loader = DataLoader(val_dataset, batch_size=32)"
   ]
  },
  {
   "cell_type": "code",
   "execution_count": 3,
   "metadata": {},
   "outputs": [
    {
     "data": {
      "text/plain": [
       "<torch.utils.data.dataloader.DataLoader at 0x14ba1ae26bd0>"
      ]
     },
     "execution_count": 3,
     "metadata": {},
     "output_type": "execute_result"
    }
   ],
   "source": [
    "val_loader "
   ]
  },
  {
   "cell_type": "code",
   "execution_count": 22,
   "metadata": {},
   "outputs": [
    {
     "name": "stdout",
     "output_type": "stream",
     "text": [
      "Is CUDA (GPU) available: True\n",
      "Number of GPU(s) available: 1\n",
      "GPU 0: Quadro RTX 6000\n"
     ]
    }
   ],
   "source": [
    "import torch\n",
    "\n",
    "# Check if CUDA (GPU support) is available\n",
    "is_cuda_available = torch.cuda.is_available()\n",
    "print(\"Is CUDA (GPU) available:\", is_cuda_available)\n",
    "\n",
    "# If CUDA is available, print the GPU name(s)\n",
    "if is_cuda_available:\n",
    "    gpu_count = torch.cuda.device_count()\n",
    "    print(f\"Number of GPU(s) available: {gpu_count}\")\n",
    "    for i in range(gpu_count):\n",
    "        print(f\"GPU {i}: {torch.cuda.get_device_name(i)}\")\n",
    "else:\n",
    "    print(\"CUDA is not available. Using CPU.\")"
   ]
  },
  {
   "cell_type": "code",
   "execution_count": 23,
   "metadata": {},
   "outputs": [
    {
     "name": "stdout",
     "output_type": "stream",
     "text": [
      "Device: cuda\n",
      "Model device: cuda:0\n"
     ]
    }
   ],
   "source": [
    "# Load a pre-trained ResNet model\n",
    "model = models.resnet50(pretrained=True)\n",
    "\n",
    "# Modify the classifier to fit your dataset\n",
    "num_features = model.fc.in_features\n",
    "model.fc = nn.Linear(num_features, len(train_dataset.classes)) # Adjust this based on your number of classes\n",
    "\n",
    "# Move the model to GPU\n",
    "device = torch.device('cuda' if torch.cuda.is_available() else 'cpu')\n",
    "print(f'Device: {device}')\n",
    "\n",
    "model = model.to(device)\n",
    "\n",
    "print(\"Model device:\", next(model.parameters()).device)"
   ]
  },
  {
   "cell_type": "code",
   "execution_count": 10,
   "metadata": {},
   "outputs": [],
   "source": [
    "criterion = nn.CrossEntropyLoss().cuda()\n",
    "optimizer = optim.Adam(model.parameters(), lr=0.01)"
   ]
  },
  {
   "cell_type": "code",
   "execution_count": null,
   "metadata": {},
   "outputs": [
    {
     "name": "stdout",
     "output_type": "stream",
     "text": [
      "Starting epoch 1/10\n"
     ]
    },
    {
     "name": "stderr",
     "output_type": "stream",
     "text": [
      "Epoch 1:  44%|████▍     | 1252/2853 [32:26<43:32,  1.63s/it]"
     ]
    }
   ],
   "source": [
    "from tqdm import tqdm\n",
    "\n",
    "# Number of epochs is set to 10, which means the entire dataset will pass through the network 10 times\n",
    "num_epochs = 10\n",
    "\n",
    "# Starting the training process\n",
    "\n",
    "for epoch in range(num_epochs):\n",
    "    print(f'Starting epoch {epoch+1}/{num_epochs}')  # Add this line to print the current epoch\n",
    "    model.train()  # Setting the model to training mode;\n",
    "    running_loss = 0.0 # Initializing the running loss which will accumulate losses over an epoch\n",
    "    \n",
    "    # Looping over the training data loader to fetch batches\n",
    "    for batch_idx, (images, labels) in enumerate(tqdm(train_loader, desc=f'Epoch {epoch+1}')):\n",
    "        \n",
    "        images, labels = images.to(device), labels.to(device)\n",
    "            \n",
    "        optimizer.zero_grad()  # Clearing the gradients so they won't accumulate\n",
    "        \n",
    "        # Forward pass through the model to get predictions\n",
    "        outputs = model(images)\n",
    "        # Calculating the loss between predictions and true labels\n",
    "        loss = criterion(outputs, labels)\n",
    "        \n",
    "        # Backpropagating the loss to calculate gradients for each parameter\n",
    "        loss.backward()\n",
    "        # Updating the parameters based on the current gradient\n",
    "        optimizer.step()\n",
    "        \n",
    "        # Adding the batch loss to the total loss for the epoch\n",
    "        running_loss += loss.item()\n",
    "        \n",
    "    # Computing the average loss for this epoch by dividing by the number of batches\n",
    "    avg_loss = running_loss / len(train_loader)\n",
    "    \n",
    "    print(f'Epoch [{epoch+1}/{num_epochs}], Loss: {avg_loss:.4f}')"
   ]
  },
  {
   "cell_type": "code",
   "execution_count": null,
   "metadata": {},
   "outputs": [],
   "source": [
    "# Validation step starts here\n",
    "    \n",
    "model.eval()  # Setting the model to evaluation mode;\n",
    "    \n",
    "with torch.no_grad():  # Disabling gradient calculations; reduces memory usage and speeds up computation\n",
    "        \n",
    "    correct = 0  # Initializing the count for correct predictions\n",
    "    total = 0  # Initializing the count for total predictions\n",
    "        \n",
    "    # Looping over the validation data loader to fetch batches\n",
    "    for images, labels in val_loader:\n",
    "            \n",
    "        images, labels = images.to(device), labels.to(device)\n",
    "                \n",
    "        outputs = model(images)  # Forward pass to get predictions\n",
    "        _, predicted = torch.max(outputs.data, 1)  # Finding the class with the highest score as the predicted class\n",
    "        total += labels.size(0)  # Adding the number of labels in the batch to the total count\n",
    "        correct += (predicted == labels).sum().item()  # Counting how many predictions were correct\n",
    "        \n",
    "        # Calculating the accuracy as the percentage of correct predictions\n",
    "        val_accuracy = 100 * correct / total\n",
    "        \n",
    "    print(f'Accuracy on validation set: {val_accuracy:.2f}%')"
   ]
  }
 ],
 "metadata": {
  "kernelspec": {
   "display_name": "base-env",
   "language": "python",
   "name": "base"
  },
  "language_info": {
   "codemirror_mode": {
    "name": "ipython",
    "version": 3
   },
   "file_extension": ".py",
   "mimetype": "text/x-python",
   "name": "python",
   "nbconvert_exporter": "python",
   "pygments_lexer": "ipython3",
   "version": "3.11.5"
  }
 },
 "nbformat": 4,
 "nbformat_minor": 2
}
